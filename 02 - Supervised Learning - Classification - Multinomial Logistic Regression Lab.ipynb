{
 "cells": [
  {
   "cell_type": "markdown",
   "id": "b7654867",
   "metadata": {},
   "source": [
    "st122645"
   ]
  },
  {
   "cell_type": "markdown",
   "id": "90afcc3b",
   "metadata": {},
   "source": [
    "https://github.com/desoe/DSAIpython"
   ]
  },
  {
   "cell_type": "markdown",
   "id": "d2e78d06",
   "metadata": {},
   "source": [
    "# === Task ===\n",
    "1. With the iris data given in class, implement train_test_split from scratch.\n",
    "\n",
    "2. Put everything into a class called LogisticRegression, this class should allow you choose any of the training methods you'd like including \"batch\", \"minibatch\" and \"sto\". However, if the input method is not one of the three, it should \"raise ValueError\".\n",
    "\n",
    "3. Calculate time taken to fit your models using different training methods.\n",
    "\n",
    "4. Perform a classification on the dataset using all 3 methods and also show what happens if your defined training method is not either \"batch\", \"minibatch\" or \"sto\". Make sure to plot the training losses.\n",
    "\n",
    "5. Simply, use classification_report from sklearn.metrics to evaluate your models.\n",
    "\n",
    "6. Discuss your results ie. training losses of the three methods and time taken to fit models."
   ]
  },
  {
   "cell_type": "code",
   "execution_count": 22,
   "id": "62c4af44",
   "metadata": {},
   "outputs": [],
   "source": [
    "import numpy as np\n",
    "import matplotlib.pyplot as plt\n",
    "from sklearn import datasets\n",
    "from sklearn.preprocessing import StandardScaler\n",
    "import numpy as np\n",
    "import matplotlib.pyplot as plt\n",
    "from sklearn.metrics import classification_report\n",
    "import time\n",
    "\n",
    "#Step 1: Prepare data\n",
    "\n",
    "# import some data to play start\n",
    "iris = datasets.load_iris()\n",
    "X = iris.data[:, 2:]  # only take the first two features.\n",
    "y = iris.target       # not yet encoded\n",
    "\n",
    "# feature scaling helps improve reach convergence faster\n",
    "scaler = StandardScaler()\n",
    "X = scaler.fit_transform(X)"
   ]
  },
  {
   "cell_type": "code",
   "execution_count": 23,
   "id": "14c52b9f",
   "metadata": {},
   "outputs": [],
   "source": [
    "# Split data into training and test datasets\n",
    "idx = np.arange(0,len(X),1)\n",
    "np.random.shuffle(idx)\n",
    "idx_train = idx[0:int(.7*len(X))]\n",
    "idx_test = idx[len(idx_train):len(idx)]\n",
    "\n",
    "X_train = X[idx_train]\n",
    "X_test = X[idx_test]\n",
    "y_train = y[idx_train]\n",
    "y_test = y[idx_test]"
   ]
  },
  {
   "cell_type": "code",
   "execution_count": 24,
   "id": "1e88f46a",
   "metadata": {},
   "outputs": [],
   "source": [
    "# add intercept to our X\n",
    "intercept = np.ones((X_train.shape[0], 1))\n",
    "X_train   = np.concatenate((intercept, X_train), axis=1)  #add intercept\n",
    "intercept = np.ones((X_test.shape[0], 1))\n",
    "X_test    = np.concatenate((intercept, X_test), axis=1)  #add intercept\n",
    "\n",
    "k = len(set(y))  # no. of class  (can also use np.unique)\n",
    "m = X_train.shape[0]  # no.of samples\n",
    "n = X_train.shape[1]  # no. of features\n",
    "Y_train_encoded = np.zeros((m, k))\n",
    "for each_class in range(k):\n",
    "    cond = y_train==each_class\n",
    "    Y_train_encoded[np.where(cond), each_class] = 1"
   ]
  },
  {
   "cell_type": "code",
   "execution_count": 25,
   "id": "7061ce2a",
   "metadata": {},
   "outputs": [
    {
     "data": {
      "image/png": "[encoded data removed]",
      "text/plain": [
       "<Figure size 432x432 with 1 Axes>"
      ]
     },
     "metadata": {
      "needs_background": "light"
     },
     "output_type": "display_data"
    }
   ],
   "source": [
    "# Step 1.1 (optional): Visualize our data\n",
    "\n",
    "# your code here\n",
    "plt.figure(figsize=(6,6))\n",
    "plt.scatter(X[:, 0], X[:, 1], label='class 0', c=y)\n",
    "plt.show()"
   ]
  },
  {
   "cell_type": "code",
   "execution_count": 26,
   "id": "8912c2c4",
   "metadata": {},
   "outputs": [],
   "source": [
    "# Step 2: Fit your data\n",
    "\n",
    "\n",
    "class LogisticRegression:\n",
    "    \n",
    "    def __init__(self, k, n, method, alpha = 0.001, max_iter=10000):\n",
    "        self.k = k\n",
    "        self.n = n\n",
    "        self.alpha = alpha\n",
    "        self.max_iter = max_iter\n",
    "        self.method = method\n",
    "    \n",
    "    def fit(self, X, Y):\n",
    "        self.W = np.random.rand(self.n, self.k)  # W matrics\n",
    "        self.losses = []\n",
    "        \n",
    "        if self.method == \"batch\":\n",
    "            start_time = time.time()\n",
    "            for i in range(self.max_iter):\n",
    "                loss, grad =  self.gradient(X, Y)\n",
    "                self.losses.append(loss)\n",
    "                self.W = self.W - self.alpha * grad\n",
    "                if i % 500 == 0:\n",
    "                    print(f\"Loss at iteration {i}\", loss)\n",
    "            print(f\"time taken: {time.time() - start_time}\")\n",
    "            \n",
    "        elif self.method == \"minibatch\":\n",
    "            start_time = time.time()\n",
    "            batch_size = int(0.1 * X.shape[0])\n",
    "            for i in range(self.max_iter):\n",
    "                ix = np.random.randint(0, X.shape[0]) #<----with replacement\n",
    "                batch_X = X[ix:ix+batch_size]\n",
    "                batch_Y = Y[ix:ix+batch_size]\n",
    "                loss, grad = self.gradient(batch_X, batch_Y)\n",
    "                self.losses.append(loss)\n",
    "                self.W = self.W - self.alpha * grad\n",
    "                if i % 500 == 0:\n",
    "                    print(f\"Loss at iteration {i}\", loss)\n",
    "            print(f\"time taken: {time.time() - start_time}\")\n",
    "            \n",
    "        elif self.method == \"sto\":\n",
    "            starting_time = time.time()\n",
    "            batch_size = 1\n",
    "            for i in range(self.max_iter):\n",
    "                ix = np.random.randint(0, X.shape[0])\n",
    "                batch_X = X[ix:ix+batch_size]\n",
    "                batch_Y = Y[ix:ix+batch_size]\n",
    "                loss, grad = self.gradient(batch_X, batch_Y)\n",
    "                self.losses.append(loss)\n",
    "                if i % 500 == 0:\n",
    "                    print(f\"Loss at iteration {i}\", loss)\n",
    "            print(f\"time taken: {time.time() - starting_time}\")\n",
    "            \n",
    "        else:\n",
    "            raise ValueError('Method must be one of the followings: \"batch\", \"minibatch\" or \"sto\".')\n",
    "        \n",
    "        \n",
    "    def gradient(self, X, Y):\n",
    "        m = X.shape[0]\n",
    "        h = self.h_theta(X, self.W)\n",
    "        loss = - np.sum(Y*np.log(h)) / m\n",
    "        error = h - Y\n",
    "        grad = self.softmax_grad(X, error)\n",
    "        return loss, grad\n",
    "\n",
    "    def softmax(self, theta_t_x):\n",
    "        return np.exp(theta_t_x) / np.sum(np.exp(theta_t_x), axis=1, keepdims=True)\n",
    "\n",
    "    def softmax_grad(self, X, error):\n",
    "        return  X.T @ error\n",
    "\n",
    "    def h_theta(self, X, W):\n",
    "        '''\n",
    "        Input:\n",
    "            X shape: (m, n)\n",
    "            w shape: (n, k)\n",
    "        Returns:\n",
    "            yhat shape: (m, k)\n",
    "        '''\n",
    "        return self.softmax(X @ W)\n",
    "    \n",
    "    def predict(self, X_test):\n",
    "        return np.argmax(self.h_theta(X_test, self.W), axis=1)\n",
    "    \n",
    "    def plot(self):\n",
    "        plt.plot(np.arange(len(self.losses)) , self.losses, label = \"Train Losses\")\n",
    "        plt.title(\"Losses\")\n",
    "        plt.xlabel(\"epoch\")\n",
    "        plt.ylabel(\"losses\")\n",
    "        plt.legend()"
   ]
  },
  {
   "cell_type": "code",
   "execution_count": 27,
   "id": "7a01ecc1",
   "metadata": {},
   "outputs": [
    {
     "name": "stdout",
     "output_type": "stream",
     "text": [
      "Loss at iteration 0 1.9430262697375922\n",
      "Loss at iteration 500 0.15994958700199127\n",
      "Loss at iteration 1000 0.1131596737388314\n",
      "Loss at iteration 1500 0.09472897074063731\n",
      "Loss at iteration 2000 0.08448647910423525\n",
      "Loss at iteration 2500 0.07778109932887815\n",
      "Loss at iteration 3000 0.07294710386912263\n",
      "Loss at iteration 3500 0.0692353218309896\n",
      "Loss at iteration 4000 0.06625720395124911\n",
      "Loss at iteration 4500 0.06379027193814736\n",
      "Loss at iteration 5000 0.06169739960334683\n",
      "Loss at iteration 5500 0.05988905179670283\n",
      "Loss at iteration 6000 0.05830396538481588\n",
      "Loss at iteration 6500 0.056898554539136184\n",
      "Loss at iteration 7000 0.055640768161205674\n",
      "Loss at iteration 7500 0.054506361651205336\n",
      "Loss at iteration 8000 0.05347654478207982\n",
      "Loss at iteration 8500 0.052536447223202554\n",
      "Loss at iteration 9000 0.05167408741149592\n",
      "Loss at iteration 9500 0.050879660971893254\n",
      "time taken: 0.26607680320739746\n",
      "=========Classification report=======\n",
      "Report:                precision    recall  f1-score   support\n",
      "\n",
      "           0       1.00      1.00      1.00        12\n",
      "           1       0.83      1.00      0.91        15\n",
      "           2       1.00      0.83      0.91        18\n",
      "\n",
      "    accuracy                           0.93        45\n",
      "   macro avg       0.94      0.94      0.94        45\n",
      "weighted avg       0.94      0.93      0.93        45\n",
      "\n"
     ]
    },
    {
     "data": {
      "image/png": "[encoded data removed]",
      "text/plain": [
       "<Figure size 432x288 with 1 Axes>"
      ]
     },
     "metadata": {
      "needs_background": "light"
     },
     "output_type": "display_data"
    }
   ],
   "source": [
    "model = LogisticRegression(k, X_train.shape[1], \"batch\")\n",
    "model.fit(X_train, Y_train_encoded)\n",
    "yhat = model.predict(X_test)\n",
    "model.plot()\n",
    "print(\"=========Classification report=======\")\n",
    "print(\"Report: \", classification_report(y_test, yhat))"
   ]
  },
  {
   "cell_type": "code",
   "execution_count": 28,
   "id": "c0655a71",
   "metadata": {},
   "outputs": [
    {
     "name": "stdout",
     "output_type": "stream",
     "text": [
      "Loss at iteration 0 1.2616867964597003\n",
      "Loss at iteration 500 0.3968919480526051\n",
      "Loss at iteration 1000 0.4003457465896922\n",
      "Loss at iteration 1500 0.1708222076425345\n",
      "Loss at iteration 2000 0.1434062101476808\n",
      "Loss at iteration 2500 0.14469451518838475\n",
      "Loss at iteration 3000 0.3517084606043194\n",
      "Loss at iteration 3500 0.11198369493410748\n",
      "Loss at iteration 4000 0.11053403321917717\n",
      "Loss at iteration 4500 0.1838449312293376\n",
      "Loss at iteration 5000 0.08779276569296794\n",
      "Loss at iteration 5500 0.16808582118451193\n",
      "Loss at iteration 6000 0.16968629898621962\n",
      "Loss at iteration 6500 0.09554041424281087\n",
      "Loss at iteration 7000 0.10458095774870899\n",
      "Loss at iteration 7500 0.22948263972369412\n",
      "Loss at iteration 8000 0.16675776751271337\n",
      "Loss at iteration 8500 0.06061005026828946\n",
      "Loss at iteration 9000 0.12690855277041907\n",
      "Loss at iteration 9500 0.048995408821433474\n",
      "time taken: 0.23705363273620605\n",
      "=========Classification report=======\n",
      "Report:                precision    recall  f1-score   support\n",
      "\n",
      "           0       1.00      1.00      1.00        12\n",
      "           1       0.83      1.00      0.91        15\n",
      "           2       1.00      0.83      0.91        18\n",
      "\n",
      "    accuracy                           0.93        45\n",
      "   macro avg       0.94      0.94      0.94        45\n",
      "weighted avg       0.94      0.93      0.93        45\n",
      "\n"
     ]
    },
    {
     "data": {
      "image/png": "[encoded data removed]",
      "text/plain": [
       "<Figure size 432x288 with 1 Axes>"
      ]
     },
     "metadata": {
      "needs_background": "light"
     },
     "output_type": "display_data"
    }
   ],
   "source": [
    "model = LogisticRegression(k, X_train.shape[1], \"minibatch\")\n",
    "model.fit(X_train, Y_train_encoded)\n",
    "yhat = model.predict(X_test)\n",
    "model.plot()\n",
    "print(\"=========Classification report=======\")\n",
    "print(\"Report: \", classification_report(y_test, yhat))"
   ]
  },
  {
   "cell_type": "code",
   "execution_count": 29,
   "id": "4b1428bc",
   "metadata": {},
   "outputs": [
    {
     "name": "stdout",
     "output_type": "stream",
     "text": [
      "Loss at iteration 0 1.0041374292077945\n",
      "Loss at iteration 500 1.4130716494385807\n",
      "Loss at iteration 1000 0.9859717866400887\n",
      "Loss at iteration 1500 0.9859717866400887\n",
      "Loss at iteration 2000 1.0151855283950093\n",
      "Loss at iteration 2500 1.2649340381009804\n",
      "Loss at iteration 3000 0.9859717866400887\n",
      "Loss at iteration 3500 0.9773372081180244\n",
      "Loss at iteration 4000 1.065153414916373\n",
      "Loss at iteration 4500 1.2490906592895283\n",
      "Loss at iteration 5000 1.4036798668057002\n",
      "Loss at iteration 5500 1.2347980198155049\n",
      "Loss at iteration 6000 1.2408144099453506\n",
      "Loss at iteration 6500 1.1170969372042934\n",
      "Loss at iteration 7000 1.4130716494385807\n",
      "Loss at iteration 7500 1.1615140192296785\n",
      "Loss at iteration 8000 0.9949963304169436\n",
      "Loss at iteration 8500 0.9949963304169436\n",
      "Loss at iteration 9000 1.2649340381009804\n",
      "Loss at iteration 9500 1.1801283234384121\n",
      "time taken: 0.20804286003112793\n",
      "=========Classification report=======\n",
      "Report:                precision    recall  f1-score   support\n",
      "\n",
      "           0       0.00      0.00      0.00        12\n",
      "           1       0.26      0.33      0.29        15\n",
      "           2       0.00      0.00      0.00        18\n",
      "\n",
      "    accuracy                           0.11        45\n",
      "   macro avg       0.09      0.11      0.10        45\n",
      "weighted avg       0.09      0.11      0.10        45\n",
      "\n"
     ]
    },
    {
     "data": {
      "image/png": "[encoded data removed]",
      "text/plain": [
       "<Figure size 432x288 with 1 Axes>"
      ]
     },
     "metadata": {
      "needs_background": "light"
     },
     "output_type": "display_data"
    }
   ],
   "source": [
    "model = LogisticRegression(k, X_train.shape[1], \"sto\")\n",
    "model.fit(X_train, Y_train_encoded)\n",
    "yhat = model.predict(X_test)\n",
    "model.plot()\n",
    "print(\"=========Classification report=======\")\n",
    "print(\"Report: \", classification_report(y_test, yhat))"
   ]
  },
  {
   "cell_type": "code",
   "execution_count": 30,
   "id": "8c2adda9",
   "metadata": {},
   "outputs": [
    {
     "ename": "ValueError",
     "evalue": "Method must be one of the followings: \"batch\", \"minibatch\" or \"sto\".",
     "output_type": "error",
     "traceback": [
      "\u001b[1;31m---------------------------------------------------------------------------\u001b[0m",
      "\u001b[1;31mValueError\u001b[0m                                Traceback (most recent call last)",
      "\u001b[1;32m~\\AppData\\Local\\Temp/ipykernel_3452/3285070576.py\u001b[0m in \u001b[0;36m<module>\u001b[1;34m\u001b[0m\n\u001b[0;32m      1\u001b[0m \u001b[0mmodel\u001b[0m \u001b[1;33m=\u001b[0m \u001b[0mLogisticRegression\u001b[0m\u001b[1;33m(\u001b[0m\u001b[0mk\u001b[0m\u001b[1;33m,\u001b[0m \u001b[0mX_train\u001b[0m\u001b[1;33m.\u001b[0m\u001b[0mshape\u001b[0m\u001b[1;33m[\u001b[0m\u001b[1;36m1\u001b[0m\u001b[1;33m]\u001b[0m\u001b[1;33m,\u001b[0m \u001b[1;34m\"My head's gonna blow up.\"\u001b[0m\u001b[1;33m)\u001b[0m\u001b[1;33m\u001b[0m\u001b[1;33m\u001b[0m\u001b[0m\n\u001b[1;32m----> 2\u001b[1;33m \u001b[0mmodel\u001b[0m\u001b[1;33m.\u001b[0m\u001b[0mfit\u001b[0m\u001b[1;33m(\u001b[0m\u001b[0mX_train\u001b[0m\u001b[1;33m,\u001b[0m \u001b[0mY_train_encoded\u001b[0m\u001b[1;33m)\u001b[0m\u001b[1;33m\u001b[0m\u001b[1;33m\u001b[0m\u001b[0m\n\u001b[0m\u001b[0;32m      3\u001b[0m \u001b[0myhat\u001b[0m \u001b[1;33m=\u001b[0m \u001b[0mmodel\u001b[0m\u001b[1;33m.\u001b[0m\u001b[0mpredict\u001b[0m\u001b[1;33m(\u001b[0m\u001b[0mX_test\u001b[0m\u001b[1;33m)\u001b[0m\u001b[1;33m\u001b[0m\u001b[1;33m\u001b[0m\u001b[0m\n\u001b[0;32m      4\u001b[0m \u001b[0mmodel\u001b[0m\u001b[1;33m.\u001b[0m\u001b[0mplot\u001b[0m\u001b[1;33m(\u001b[0m\u001b[1;33m)\u001b[0m\u001b[1;33m\u001b[0m\u001b[1;33m\u001b[0m\u001b[0m\n",
      "\u001b[1;32m~\\AppData\\Local\\Temp/ipykernel_3452/3891391375.py\u001b[0m in \u001b[0;36mfit\u001b[1;34m(self, X, Y)\u001b[0m\n\u001b[0;32m     54\u001b[0m \u001b[1;33m\u001b[0m\u001b[0m\n\u001b[0;32m     55\u001b[0m         \u001b[1;32melse\u001b[0m\u001b[1;33m:\u001b[0m\u001b[1;33m\u001b[0m\u001b[1;33m\u001b[0m\u001b[0m\n\u001b[1;32m---> 56\u001b[1;33m             \u001b[1;32mraise\u001b[0m \u001b[0mValueError\u001b[0m\u001b[1;33m(\u001b[0m\u001b[1;34m'Method must be one of the followings: \"batch\", \"minibatch\" or \"sto\".'\u001b[0m\u001b[1;33m)\u001b[0m\u001b[1;33m\u001b[0m\u001b[1;33m\u001b[0m\u001b[0m\n\u001b[0m\u001b[0;32m     57\u001b[0m \u001b[1;33m\u001b[0m\u001b[0m\n\u001b[0;32m     58\u001b[0m \u001b[1;33m\u001b[0m\u001b[0m\n",
      "\u001b[1;31mValueError\u001b[0m: Method must be one of the followings: \"batch\", \"minibatch\" or \"sto\"."
     ]
    }
   ],
   "source": [
    "model = LogisticRegression(k, X_train.shape[1], \"My head's gonna blow up.\")\n",
    "model.fit(X_train, Y_train_encoded)\n",
    "yhat = model.predict(X_test)\n",
    "model.plot()"
   ]
  },
  {
   "cell_type": "code",
   "execution_count": null,
   "id": "127d1ad6",
   "metadata": {},
   "outputs": [],
   "source": []
  },
  {
   "cell_type": "code",
   "execution_count": null,
   "id": "87e78952",
   "metadata": {},
   "outputs": [],
   "source": []
  }
 ],
 "metadata": {
  "kernelspec": {
   "display_name": "pythonDSAI",
   "language": "python",
   "name": "pythondsai"
  },
  "language_info": {
   "codemirror_mode": {
    "name": "ipython",
    "version": 3
   },
   "file_extension": ".py",
   "mimetype": "text/x-python",
   "name": "python",
   "nbconvert_exporter": "python",
   "pygments_lexer": "ipython3",
   "version": "3.8.3"
  }
 },
 "nbformat": 4,
 "nbformat_minor": 5
}
