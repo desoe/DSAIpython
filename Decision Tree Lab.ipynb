{
 "cells": [
  {
   "cell_type": "markdown",
   "metadata": {},
   "source": [
    "Modify the Decision Tree scratch code in our lecture such that:\n",
    "- Modify the scratch code so it can accept an hyperparameter <code>max_depth</code>, in which it will continue create the tree until max_depth is reached.</li>\n",
    "- Put everything into a class <code>DecisionTree</code>.  It should have at least two methods, <code>fit()</code>, and <code>predict()</code>\n",
    "- Load the iris data and try with your class</li>"
   ]
  },
  {
   "cell_type": "markdown",
   "metadata": {},
   "source": [
    "st122645"
   ]
  },
  {
   "cell_type": "code",
   "execution_count": 1,
   "metadata": {},
   "outputs": [],
   "source": [
    "import matplotlib.pyplot as plt\n",
    "import numpy as np"
   ]
  },
  {
   "cell_type": "code",
   "execution_count": 13,
   "metadata": {},
   "outputs": [
    {
     "name": "stdout",
     "output_type": "stream",
     "text": [
      "[0]\n",
      "[2]\n",
      "[2]\n"
     ]
    }
   ],
   "source": [
    "#To help with our implementation, we create a class Node\n",
    "class Node:\n",
    "    def __init__(self,predicted_class):\n",
    "#         self.gini = gini\n",
    "#         self.num_samples = num_samples\n",
    "#         self.num_samples_per_class = num_samples_per_class\n",
    "        self.predicted_class = predicted_class\n",
    "        self.feature_index = 0\n",
    "        self.threshold = 0\n",
    "        self.left = None\n",
    "        self.right = None\n",
    "        \n",
    "class DecisionTree:\n",
    "    def __init__(self, max_depth=None):\n",
    "        self.max_depth = max_depth\n",
    "\n",
    "    def fit(self, X, y):\n",
    "        self.n_classes_ = len(set(y))\n",
    "        self.n_features_ = X.shape[1]\n",
    "        self.tree_ = self._grow_tree(X, y)\n",
    "        \n",
    "    def predict(self, X):\n",
    "        return [self._predict(inputs) for inputs in X]\n",
    "    \n",
    "    def find_split(self, X, y):\n",
    "        n_samples = y.size # if not define, error\n",
    "        if n_samples <= 1:\n",
    "            return None, None\n",
    "        class_parent = [np.sum(y == c) for c in range(self.n_classes_)]\n",
    "        best_gini = 1.0 - sum((n / n_samples) ** 2 for n in class_parent)\n",
    "        feature_ix, threshold = None, None\n",
    "\n",
    "        for feature in range(self.n_features_):\n",
    "            sample_sorted = sorted(X[:, feature])\n",
    "            sort_idx = np.argsort(X[:, feature])\n",
    "            y_sorted = y[sort_idx] #[0, 0, 1, 1]\n",
    "            class_left = [0] * self.n_classes_\n",
    "            class_right = class_parent.copy()\n",
    "            \n",
    "            for i in range(1, n_samples): \n",
    "                #the class of that sample\n",
    "                c = y_sorted[i - 1]  #[0]\n",
    "                #put the sample to the left\n",
    "                class_left[c] += 1  #[1, 0]\n",
    "                #take the sample out from the right  [1, 2]\n",
    "                class_right[c] -= 1\n",
    "                gini_left = 1.0 - sum(\n",
    "                    (class_left[x] / i) ** 2 for x in range(self.n_classes_)\n",
    "                )\n",
    "                #we divided by n_samples - i since we know that the left amount of samples\n",
    "                #since left side has already i samples\n",
    "                gini_right = 1.0 - sum(\n",
    "                    (class_right[x] / (n_samples - i)) ** 2 for x in range(self.n_classes_)\n",
    "                )\n",
    "                #weighted gini\n",
    "                weighted_gini = ((i / n_samples) * gini_left) + ( (n_samples - i) /n_samples) * gini_right\n",
    "\n",
    "                # in case the value are the same, we do not split\n",
    "                # (both have to end up on the same side of a split).\n",
    "                if sample_sorted[i] == sample_sorted[i - 1]:\n",
    "                    continue\n",
    "                if weighted_gini < best_gini:\n",
    "                    best_gini = weighted_gini\n",
    "                    feature_ix = feature\n",
    "                    threshold = (sample_sorted[i] + sample_sorted[i - 1]) / 2  # midpoint\n",
    "        return feature_ix, threshold\n",
    "    \n",
    "    def _grow_tree(self, X, y, depth = 0):\n",
    "        num_samples_per_class = [np.sum(y == i) for i in range(self.n_classes_)]\n",
    "        predicted_class = np.argmax(num_samples_per_class)\n",
    "        node = Node(predicted_class=predicted_class)\n",
    "        if depth < self.max_depth:\n",
    "            feature, threshold = self.find_split(X, y)\n",
    "\n",
    "            if feature is not None:\n",
    "            #take all the indices that is less than threshold\n",
    "                indices_left = X[:, feature] < threshold\n",
    "                X_left, y_left = X[indices_left], y[indices_left]\n",
    "\n",
    "                #tilde for negation\n",
    "                X_right, y_right = X[~indices_left], y[~indices_left]\n",
    "\n",
    "                #take note for later decision\n",
    "                node.feature_index = feature\n",
    "                node.threshold = threshold\n",
    "                node.left = self._grow_tree(X_left, y_left,  depth + 1)\n",
    "                node.right = self._grow_tree(X_right, y_right,  depth + 1)\n",
    "        return node\n",
    "        \n",
    "    def _predict(self, inputs):\n",
    "        node = self.tree_\n",
    "        while node.left:\n",
    "            if inputs[node.feature_index] < node.threshold:\n",
    "                node = node.left\n",
    "            else:\n",
    "                node = node.right\n",
    "        return node.predicted_class\n",
    "\n",
    "\n",
    "if __name__ == \"__main__\":\n",
    "    import sys\n",
    "    from sklearn.datasets import load_iris\n",
    "\n",
    "    dataset = load_iris()\n",
    "    X, y = dataset.data, dataset.target\n",
    "    clf = DecisionTree(max_depth=10)\n",
    "    clf.fit(X, y)\n",
    "    print(clf.predict([[0, 1, 2, 1.5]]))\n",
    "    print(clf.predict([[1, 3, 5, 15]]))\n",
    "    print(clf.predict([[0, 0, 5, 1.5]]))"
   ]
  },
  {
   "cell_type": "code",
   "execution_count": null,
   "metadata": {},
   "outputs": [],
   "source": []
  },
  {
   "cell_type": "code",
   "execution_count": null,
   "metadata": {},
   "outputs": [],
   "source": []
  }
 ],
 "metadata": {
  "kernelspec": {
   "display_name": "pythonDSAI",
   "language": "python",
   "name": "pythondsai"
  },
  "language_info": {
   "codemirror_mode": {
    "name": "ipython",
    "version": 3
   },
   "file_extension": ".py",
   "mimetype": "text/x-python",
   "name": "python",
   "nbconvert_exporter": "python",
   "pygments_lexer": "ipython3",
   "version": "3.8.3"
  }
 },
 "nbformat": 4,
 "nbformat_minor": 4
}
