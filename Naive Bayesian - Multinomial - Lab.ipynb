{
 "cells": [
  {
   "cell_type": "markdown",
   "id": "e03b0708",
   "metadata": {},
   "source": [
    "# Naive Bayesian - Multinomial - Lab\n",
    "### === Task ===\n",
    "\n",
    "Learn about TFidVectorizer and replace CountVectorizer with TfidfVectorizer. Put Multinomial Naive Classification into a class that can transform the data, fit the model and do prediction. (In the class, allow users to choose whether to use CountVectorizer or TFIDVectorizer to transform the data.)"
   ]
  },
  {
   "cell_type": "markdown",
   "id": "57ec192b",
   "metadata": {},
   "source": [
    "#### st122645 Pyae Sone"
   ]
  },
  {
   "cell_type": "raw",
   "id": "74a958f4",
   "metadata": {},
   "source": [
    "https://github.com/desoe/DSAIpython"
   ]
  },
  {
   "cell_type": "code",
   "execution_count": 13,
   "id": "312f7bcc",
   "metadata": {},
   "outputs": [],
   "source": [
    "import numpy as np\n",
    "import matplotlib.pyplot as plt\n",
    "from sklearn.datasets import fetch_20newsgroups\n",
    "from sklearn.preprocessing import label_binarize\n",
    "from sklearn.feature_extraction.text import CountVectorizer\n",
    "from sklearn.feature_extraction.text import TfidfVectorizer\n",
    "from sklearn.metrics import average_precision_score, classification_report\n",
    "from sklearn.metrics import confusion_matrix\n",
    "import seaborn as sns\n"
   ]
  },
  {
   "cell_type": "code",
   "execution_count": 14,
   "id": "ea1d8aef",
   "metadata": {},
   "outputs": [],
   "source": [
    "class MultinomialNB():\n",
    "    def __init__(self,):\n",
    "        pass\n",
    "    \n",
    "    def transform_data(self, train_data, test_data, method):\n",
    "        if method == 'CountVectorizer':\n",
    "            vectorizer = CountVectorizer()\n",
    "            \n",
    "            X_train = vectorizer.fit_transform(train_data)\n",
    "            X_test = vectorizer.transform(test_data)\n",
    "            X_test = X_test.toarray()\n",
    "            y_train = train.target\n",
    "            y_test = test.target\n",
    "            return X_train, y_train, X_test, y_test\n",
    "\n",
    "        elif method == 'TfidfVectorizer':\n",
    "            vectorizer = TfidfVectorizer()\n",
    "           \n",
    "            X_train = vectorizer.fit_transform(train_data)\n",
    "            X_test = vectorizer.transform(test_data)\n",
    "            X_test = X_test.toarray()\n",
    "            y_train = train.target\n",
    "            y_test = test.target\n",
    "            return X_train, y_train, X_test, y_test\n",
    "        \n",
    "        else : \n",
    "            raise ValueError('Method must be one of the followings: \"CountVectorizer\" or \"TfidfVectorizer\"')\n",
    "            \n",
    "    def likelihood(self, X_class, laplace=1):\n",
    "        return ((X_class.sum(axis=0)) + laplace) / (np.sum(X_class.sum(axis=0) + laplace))\n",
    "    \n",
    "    def prior(self, X_class):\n",
    "        return X_class.shape[0] / self.m\n",
    "    \n",
    "    def fit(self, X_train, y_train):\n",
    "        self.m, self.n = X_train.shape\n",
    "        self.classes = np.unique(y_train)  \n",
    "        self.k = len(self.classes) \n",
    "        \n",
    "        self.priors = np.zeros(self.k) \n",
    "        self.likelihoods = np.zeros((self.k,self.n)) \n",
    "    \n",
    "        for idx, label in enumerate(self.classes):\n",
    "            X_train_c = X_train[y_train==label]\n",
    "            self.priors[idx] = self.prior(X_train_c)\n",
    "            self.likelihoods[idx, :] = self.likelihood(X_train_c)\n",
    "        #return self.priors, self.likelihoods\n",
    "    \n",
    "    def predict(self, X_test):\n",
    "        yhat = np.log(self.priors) + X_test @ np.log(self.likelihoods.T)\n",
    "        return np.argmax(yhat, axis=1)"
   ]
  },
  {
   "cell_type": "code",
   "execution_count": 15,
   "id": "7bf447f6",
   "metadata": {},
   "outputs": [
    {
     "data": {
      "text/plain": [
       "['alt.atheism',\n",
       " 'comp.graphics',\n",
       " 'comp.os.ms-windows.misc',\n",
       " 'comp.sys.ibm.pc.hardware',\n",
       " 'comp.sys.mac.hardware',\n",
       " 'comp.windows.x',\n",
       " 'misc.forsale',\n",
       " 'rec.autos',\n",
       " 'rec.motorcycles',\n",
       " 'rec.sport.baseball',\n",
       " 'rec.sport.hockey',\n",
       " 'sci.crypt',\n",
       " 'sci.electronics',\n",
       " 'sci.med',\n",
       " 'sci.space',\n",
       " 'soc.religion.christian',\n",
       " 'talk.politics.guns',\n",
       " 'talk.politics.mideast',\n",
       " 'talk.politics.misc',\n",
       " 'talk.religion.misc']"
      ]
     },
     "execution_count": 15,
     "metadata": {},
     "output_type": "execute_result"
    }
   ],
   "source": [
    "data = fetch_20newsgroups()\n",
    "data.target_names"
   ]
  },
  {
   "cell_type": "code",
   "execution_count": 16,
   "id": "f1cd8c13",
   "metadata": {},
   "outputs": [],
   "source": [
    "categories = ['talk.politics.guns', 'sci.crypt',\n",
    "              'soc.religion.christian', 'comp.graphics']\n",
    "train = fetch_20newsgroups(subset='train', categories=categories)\n",
    "test = fetch_20newsgroups(subset='test', categories=categories)\n",
    "\n",
    "train_data = train.data\n",
    "test_data = test.data"
   ]
  },
  {
   "cell_type": "code",
   "execution_count": 17,
   "id": "adb808d0",
   "metadata": {},
   "outputs": [
    {
     "name": "stdout",
     "output_type": "stream",
     "text": [
      "From: 18669@bach.udel.edu (Steven R Hoskins)\n",
      "Subject: Some questions from a new Christian\n",
      "Organization: University of Delaware\n",
      "Lines: 40\n",
      "\n",
      "Hi,\n",
      "\n",
      "I am new to this newsgroup, and also fairly new to christianity. I was\n",
      "raised as a Unitarian and have spent the better part of my life as an\n",
      "agnostic, but recently I have developed the firm conviction that the\n",
      "Christian message is correct and I have accepted Jesus into my life. I am\n",
      "happy, but I realize I am very ignorant about much of the Bible and\n",
      "quite possibly about what Christians should hold as true. This I am trying\n",
      "to rectify (by reading the Bible of course), but it would be helpful\n",
      "to also read a good interpretation/commentary on the Bible or other\n",
      "relevant aspects of the Christian faith. One of my questions I would\n",
      "like to ask is - Can anyone recommend a good reading list of theological\n",
      "works intended for a lay person?\n",
      "\n",
      "I have another question I would like to ask. I am not yet affiliated\n",
      "with any one congregation. Aside from matters of taste, what criteria\n",
      "should one use in choosing a church? I don't really know the difference\n",
      "between the various Protestant denominations.\n",
      "\n",
      "Thanks for reading my post. \n",
      "\n",
      "Sincerely,\n",
      "\n",
      "Steve Hoskins\n",
      "\n",
      "[Aside from a commentary, you might also want to consider an\n",
      "introduction.  These are books intended for use in undergraduate Bible\n",
      "courses.  They give historical background, discussion of literary\n",
      "styles, etc.  And generally they have good bibligraphies for further\n",
      "reading.  I typically recommend Kee, Froehlich and Young's NT\n",
      "introduction.  There are also some good one-volume commentaries.  They\n",
      "often have background articles that are helpful.  Probably the best\n",
      "recommendation these days would be Harper's Bible Commentary.  (I\n",
      "think there may be a couple of books with this title.  This is a\n",
      "fairly recent one, like about 1990, done in cooperation with the\n",
      "Society for Biblical Criticism.)  If you are committed to inerrancy,\n",
      "you will probably prefer something more conservative.  I don't read a\n",
      "lot of conservative books, but a commentary I looked at by Donald\n",
      "Guthrie looked rather good.  He has a NT Introduction, and he's also\n",
      "editor of Eerdman's Bible Commentary.  --clh]\n",
      "\n",
      "Target:  2\n"
     ]
    }
   ],
   "source": [
    "print(train.data[0]) #first 300 words\n",
    "print(\"Target: \", train.target[0]) "
   ]
  },
  {
   "cell_type": "code",
   "execution_count": 18,
   "id": "63c5a41a",
   "metadata": {},
   "outputs": [],
   "source": [
    "model = MultinomialNB()\n",
    "X_train, y_train, X_test, y_test = model.transform_data(train_data, test_data, method='CountVectorizer')                                        \n",
    "model.fit(X_train, y_train)\n",
    "yhat = model.predict(X_test)"
   ]
  },
  {
   "cell_type": "code",
   "execution_count": 19,
   "id": "fa02c4a9",
   "metadata": {},
   "outputs": [
    {
     "name": "stdout",
     "output_type": "stream",
     "text": [
      "Accuracy:  0.9631544925662573\n",
      "=========Average precision score=======\n",
      "Class 0 score:  0.914661375722921\n",
      "Class 1 score:  0.9088350455924712\n",
      "Class 2 score:  0.9726670056689477\n",
      "Class 3 score:  0.9538343270269002\n",
      "=========Classification report=======\n",
      "Report:                precision    recall  f1-score   support\n",
      "\n",
      "           0       0.95      0.95      0.95       389\n",
      "           1       0.94      0.96      0.95       396\n",
      "           2       0.99      0.98      0.98       398\n",
      "           3       0.98      0.96      0.97       364\n",
      "\n",
      "    accuracy                           0.96      1547\n",
      "   macro avg       0.96      0.96      0.96      1547\n",
      "weighted avg       0.96      0.96      0.96      1547\n",
      "\n"
     ]
    }
   ],
   "source": [
    "n_classes = len(np.unique(y_test))\n",
    "\n",
    "print(\"Accuracy: \", np.sum(yhat == y_test)/len(y_test))\n",
    "\n",
    "print(\"=========Average precision score=======\")\n",
    "y_test_binarized = label_binarize(y_test, classes=[0, 1, 2, 3])\n",
    "yhat_binarized = label_binarize(yhat, classes=[0, 1, 2, 3])\n",
    "\n",
    "for i in range(n_classes):\n",
    "    class_score = average_precision_score(y_test_binarized[:, i], yhat_binarized[:, i])\n",
    "    print(f\"Class {i} score: \", class_score)\n",
    "    \n",
    "print(\"=========Classification report=======\")\n",
    "print(\"Report: \", classification_report(y_test, yhat))"
   ]
  },
  {
   "cell_type": "code",
   "execution_count": 20,
   "id": "99ec7ce8",
   "metadata": {},
   "outputs": [
    {
     "data": {
      "text/plain": [
       "Text(32.99999999999999, 0.5, 'predicted')"
      ]
     },
     "execution_count": 20,
     "metadata": {},
     "output_type": "execute_result"
    },
    {
     "data": {
      "image/png": "[encoded data removed]",
      "text/plain": [
       "<Figure size 432x288 with 2 Axes>"
      ]
     },
     "metadata": {
      "needs_background": "light"
     },
     "output_type": "display_data"
    }
   ],
   "source": [
    "mat = confusion_matrix(y_test, yhat)\n",
    "\n",
    "sns.heatmap(mat.T, annot=True, fmt=\"d\",\n",
    "           xticklabels=train.target_names, yticklabels=train.target_names)\n",
    "plt.xlabel('true')\n",
    "plt.ylabel('predicted')"
   ]
  },
  {
   "cell_type": "code",
   "execution_count": 21,
   "id": "490c2b13",
   "metadata": {},
   "outputs": [],
   "source": [
    "model = MultinomialNB()\n",
    "X_train, y_train, X_test, y_test = model.transform_data(train_data, test_data, method='TfidfVectorizer')                                        \n",
    "model.fit(X_train, y_train)\n",
    "yhat = model.predict(X_test)"
   ]
  },
  {
   "cell_type": "code",
   "execution_count": 22,
   "id": "bdee06b3",
   "metadata": {},
   "outputs": [
    {
     "name": "stdout",
     "output_type": "stream",
     "text": [
      "Accuracy:  0.9334195216548158\n",
      "=========Average precision score=======\n",
      "Class 0 score:  0.8526451682482732\n",
      "Class 1 score:  0.8499748907592044\n",
      "Class 2 score:  0.9268515288033005\n",
      "Class 3 score:  0.9344052545410011\n",
      "=========Classification report=======\n",
      "Report:                precision    recall  f1-score   support\n",
      "\n",
      "           0       0.98      0.82      0.89       389\n",
      "           1       0.86      0.98      0.92       396\n",
      "           2       0.93      0.99      0.96       398\n",
      "           3       0.98      0.94      0.96       364\n",
      "\n",
      "    accuracy                           0.93      1547\n",
      "   macro avg       0.94      0.93      0.93      1547\n",
      "weighted avg       0.94      0.93      0.93      1547\n",
      "\n"
     ]
    }
   ],
   "source": [
    "n_classes = len(np.unique(y_test))\n",
    "\n",
    "print(\"Accuracy: \", np.sum(yhat == y_test)/len(y_test))\n",
    "\n",
    "print(\"=========Average precision score=======\")\n",
    "y_test_binarized = label_binarize(y_test, classes=[0, 1, 2, 3])\n",
    "yhat_binarized = label_binarize(yhat, classes=[0, 1, 2, 3])\n",
    "\n",
    "for i in range(n_classes):\n",
    "    class_score = average_precision_score(y_test_binarized[:, i], yhat_binarized[:, i])\n",
    "    print(f\"Class {i} score: \", class_score)\n",
    "    \n",
    "print(\"=========Classification report=======\")\n",
    "print(\"Report: \", classification_report(y_test, yhat))"
   ]
  },
  {
   "cell_type": "code",
   "execution_count": 23,
   "id": "6e73aad7",
   "metadata": {},
   "outputs": [
    {
     "data": {
      "text/plain": [
       "Text(32.99999999999999, 0.5, 'predicted')"
      ]
     },
     "execution_count": 23,
     "metadata": {},
     "output_type": "execute_result"
    },
    {
     "data": {
      "image/png": "[encoded data removed]",
      "text/plain": [
       "<Figure size 432x288 with 2 Axes>"
      ]
     },
     "metadata": {
      "needs_background": "light"
     },
     "output_type": "display_data"
    }
   ],
   "source": [
    "mat = confusion_matrix(y_test, yhat)\n",
    "\n",
    "sns.heatmap(mat.T, annot=True, fmt=\"d\",\n",
    "           xticklabels=train.target_names, yticklabels=train.target_names)\n",
    "plt.xlabel('true')\n",
    "plt.ylabel('predicted')"
   ]
  },
  {
   "cell_type": "code",
   "execution_count": 24,
   "id": "86dadcfc",
   "metadata": {},
   "outputs": [
    {
     "ename": "ValueError",
     "evalue": "Method must be one of the followings: \"CountVectorizer\" or \"TfidfVectorizer\"",
     "output_type": "error",
     "traceback": [
      "\u001b[1;31m---------------------------------------------------------------------------\u001b[0m",
      "\u001b[1;31mValueError\u001b[0m                                Traceback (most recent call last)",
      "\u001b[1;32m~\\AppData\\Local\\Temp/ipykernel_15124/352808374.py\u001b[0m in \u001b[0;36m<module>\u001b[1;34m\u001b[0m\n\u001b[0;32m      1\u001b[0m \u001b[0mmodel\u001b[0m \u001b[1;33m=\u001b[0m \u001b[0mMultinomialNB\u001b[0m\u001b[1;33m(\u001b[0m\u001b[1;33m)\u001b[0m\u001b[1;33m\u001b[0m\u001b[1;33m\u001b[0m\u001b[0m\n\u001b[1;32m----> 2\u001b[1;33m \u001b[0mX_train\u001b[0m\u001b[1;33m,\u001b[0m \u001b[0my_train\u001b[0m\u001b[1;33m,\u001b[0m \u001b[0mX_test\u001b[0m\u001b[1;33m,\u001b[0m \u001b[0my_test\u001b[0m \u001b[1;33m=\u001b[0m \u001b[0mmodel\u001b[0m\u001b[1;33m.\u001b[0m\u001b[0mtransform_data\u001b[0m\u001b[1;33m(\u001b[0m\u001b[0mtrain_data\u001b[0m\u001b[1;33m,\u001b[0m \u001b[0mtest_data\u001b[0m\u001b[1;33m,\u001b[0m \u001b[0mmethod\u001b[0m\u001b[1;33m=\u001b[0m\u001b[1;34m'Regression'\u001b[0m\u001b[1;33m)\u001b[0m\u001b[1;33m\u001b[0m\u001b[1;33m\u001b[0m\u001b[0m\n\u001b[0m\u001b[0;32m      3\u001b[0m \u001b[0mmodel\u001b[0m\u001b[1;33m.\u001b[0m\u001b[0mfit\u001b[0m\u001b[1;33m(\u001b[0m\u001b[0mX_train\u001b[0m\u001b[1;33m,\u001b[0m \u001b[0my_train\u001b[0m\u001b[1;33m)\u001b[0m\u001b[1;33m\u001b[0m\u001b[1;33m\u001b[0m\u001b[0m\n\u001b[0;32m      4\u001b[0m \u001b[0myhat\u001b[0m \u001b[1;33m=\u001b[0m \u001b[0mmodel\u001b[0m\u001b[1;33m.\u001b[0m\u001b[0mpredict\u001b[0m\u001b[1;33m(\u001b[0m\u001b[0mX_test\u001b[0m\u001b[1;33m)\u001b[0m\u001b[1;33m\u001b[0m\u001b[1;33m\u001b[0m\u001b[0m\n",
      "\u001b[1;32m~\\AppData\\Local\\Temp/ipykernel_15124/4282392293.py\u001b[0m in \u001b[0;36mtransform_data\u001b[1;34m(self, train_data, test_data, method)\u001b[0m\n\u001b[0;32m     25\u001b[0m \u001b[1;33m\u001b[0m\u001b[0m\n\u001b[0;32m     26\u001b[0m         \u001b[1;32melse\u001b[0m \u001b[1;33m:\u001b[0m\u001b[1;33m\u001b[0m\u001b[1;33m\u001b[0m\u001b[0m\n\u001b[1;32m---> 27\u001b[1;33m             \u001b[1;32mraise\u001b[0m \u001b[0mValueError\u001b[0m\u001b[1;33m(\u001b[0m\u001b[1;34m'Method must be one of the followings: \"CountVectorizer\" or \"TfidfVectorizer\"'\u001b[0m\u001b[1;33m)\u001b[0m\u001b[1;33m\u001b[0m\u001b[1;33m\u001b[0m\u001b[0m\n\u001b[0m\u001b[0;32m     28\u001b[0m \u001b[1;33m\u001b[0m\u001b[0m\n\u001b[0;32m     29\u001b[0m     \u001b[1;32mdef\u001b[0m \u001b[0mlikelihood\u001b[0m\u001b[1;33m(\u001b[0m\u001b[0mself\u001b[0m\u001b[1;33m,\u001b[0m \u001b[0mX_class\u001b[0m\u001b[1;33m,\u001b[0m \u001b[0mlaplace\u001b[0m\u001b[1;33m=\u001b[0m\u001b[1;36m1\u001b[0m\u001b[1;33m)\u001b[0m\u001b[1;33m:\u001b[0m\u001b[1;33m\u001b[0m\u001b[1;33m\u001b[0m\u001b[0m\n",
      "\u001b[1;31mValueError\u001b[0m: Method must be one of the followings: \"CountVectorizer\" or \"TfidfVectorizer\""
     ]
    }
   ],
   "source": [
    "model = MultinomialNB()\n",
    "X_train, y_train, X_test, y_test = model.transform_data(train_data, test_data, method='Regression')                                        \n",
    "model.fit(X_train, y_train)\n",
    "yhat = model.predict(X_test)"
   ]
  },
  {
   "cell_type": "code",
   "execution_count": null,
   "id": "7b159d8a",
   "metadata": {},
   "outputs": [],
   "source": []
  },
  {
   "cell_type": "code",
   "execution_count": null,
   "id": "54bcd9fd",
   "metadata": {},
   "outputs": [],
   "source": []
  }
 ],
 "metadata": {
  "kernelspec": {
   "display_name": "pythonDSAI",
   "language": "python",
   "name": "pythondsai"
  },
  "language_info": {
   "codemirror_mode": {
    "name": "ipython",
    "version": 3
   },
   "file_extension": ".py",
   "mimetype": "text/x-python",
   "name": "python",
   "nbconvert_exporter": "python",
   "pygments_lexer": "ipython3",
   "version": "3.8.3"
  }
 },
 "nbformat": 4,
 "nbformat_minor": 5
}
