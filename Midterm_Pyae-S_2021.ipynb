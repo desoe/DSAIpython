{
 "cells": [
  {
   "cell_type": "markdown",
   "metadata": {},
   "source": [
    "# CP - Midterm - 2021\n",
    "## Instruction\n",
    "* Modify this file to be Midterm-<Your FirstName-[First Letter of Last Name]>, e.g., Midterm-Chaklam-S.ipynb\n",
    "* This exam is open-booked; open-internet.\n",
    "* You ARE NOT allowed to use sklearn or any libraries, unless stated.\n",
    "* The completed exams in **.ipynb AND .pdf format** shall be submitted at the Google Classroom \n",
    "* Any instructions not given, feel free to make any assumptions\n",
    "\n",
    "## Examination Rules:\n",
    "* Turn on your webcam during the entire period of the exam time\n",
    "* All work should belong to you. A student should NOT engage in the following activities which proctors reserve the right to interpret any of such act as academic dishonesty without questioning:\n",
    "* Chatting with any human beings physically or via online methods\n",
    "* Plagiarism of any sort, i.e., copying from friends. Both copee and copier shall be given a minimum penalty of zero mark for that particular question or the whole exam.\n",
    "* No make-up exams are allowed. Special considerations may be given upon a valid reason on unpredictable events such as accidents or serious sickness."
   ]
  },
  {
   "cell_type": "markdown",
   "metadata": {},
   "source": [
    "## Question 1 (100 points): Basic Python Skills\n",
    "\n",
    "By now you should be comfortable with creating classes. Please complete the followings:\n",
    "\n",
    "1) First, please create a Candy() class \n",
    "- Please create a Candy() class that requires an input of 'color' attribute assigned in its <code> __ init __  </code>  function when you create an object.(4 point)\n",
    "- the second attribute in the <code> __ init __  </code> function is 'price' which should automatically be assigned according to colors:\n",
    "  * red costs 2 baht, blue costs 4 baht and others cost 6 baht (12 points)\n",
    "- Please add a <code> __ str __  </code> method that will allow you to print out the color and price of the candy (8 points)\n",
    "\n",
    "2) We will need another class called <code>CandyBasket()</code> which we will use to keep our candies in. This class should have the following methods (or functions) :\n",
    "\n",
    "- It should automatically create an empty basket when you create an object from this class.   \n",
    "  Please create 2 objects called <code>Basket1</code> and <code>Basket2</code> from the <code>CandyBasket()</code> class (8 points)\n",
    "  \n",
    "- Create a function for adding candy into the basket. <br>\n",
    "  Please add 3 Red candies and 3 Yellow candies into <code>Basket1</code>\n",
    "  and add 3 Blue candies into <code>Basket2</code>. (8 points)\n",
    "  \n",
    "- Create a <code> __ len __  </code> function that will allow you to print out the number of candies in the basket.  <br>\n",
    "  Please print out the number of candies in <code>Basket1</code> and <code>Basket2</code> (8 points)\n",
    "  \n",
    "- Create a <code> __ str __  </code> function that will allow you to print out the content of the basket.  <br>\n",
    "  Please print out the content of <code>Basket1</code> and <code>Basket2</code> (4 point)\n",
    "    \n",
    "- Also create a function that can plot a bar plot to show the number of candies of each color.  <br>\n",
    "  Please plot out the content of <code>Basket1</code> and <code>Basket2</code> (8 points)\n",
    "    \n",
    "    \n",
    "- Create a function for removing a candy from the basket you should be able to choose which candy to remove ! ) <br>\n",
    "  Please remove 2 Yellow candies from <code>Basket1</code> (12 points)\n",
    "  \n",
    "- Create a function that will allow you to transfer a specific color of candy from one basket to another. (It should also check and **raise and error** if you don't have the specific color of candy that you want to transfer)  <br>\n",
    "  Please transfer a Purple candy from <code>Basket2</code> to <code>Basket1</code> (it should give you an error).\n",
    "  and transfer 2 Red candies from <code>Basket1</code> to <code>Basket2</code>. (20 points)\n",
    "  \n",
    "- Create one last function that will calculate the total price of all candies in your basket. <br>\n",
    "  Please calculate and print out the total price of candies in <code>Basket1</code> and <code>Basket2</code> (8 points)"
   ]
  },
  {
   "cell_type": "code",
   "execution_count": 124,
   "metadata": {},
   "outputs": [],
   "source": [
    "import matplotlib.pyplot as plt"
   ]
  },
  {
   "cell_type": "code",
   "execution_count": 125,
   "metadata": {},
   "outputs": [
    {
     "name": "stdout",
     "output_type": "stream",
     "text": [
      "Color of Candy is red, and the Price is 2baht\n",
      "Color of Candy is blue, and the Price is 4baht\n",
      "Color of Candy is yellow, and the Price is 6baht\n"
     ]
    }
   ],
   "source": [
    "# Candy Class\n",
    "class Candy:\n",
    "    def __init__(self,color):\n",
    "        if(color == 'red'):\n",
    "            self.price = 2\n",
    "        elif(color == 'blue'):\n",
    "            self.price = 4\n",
    "        else:\n",
    "            self.price = 6\n",
    "        self.color = color\n",
    "    \n",
    "    def __str__(self):\n",
    "        print(\"Color of Candy is \" + str(self.color) + \", and the Price is \" + str(self.price) + \"baht\")\n",
    "\n",
    "    def get_color(self):\n",
    "        return self.color\n",
    "    \n",
    "    def get_price(self):\n",
    "        return self.price\n",
    "    \n",
    "# candy objects\n",
    "red_candy = Candy('red')\n",
    "blue_candy = Candy('blue')\n",
    "yellow_candy = Candy('yellow')\n",
    "\n",
    "# output candy __str__\n",
    "red_candy.__str__()\n",
    "blue_candy.__str__()\n",
    "yellow_candy.__str__()"
   ]
  },
  {
   "cell_type": "code",
   "execution_count": 126,
   "metadata": {},
   "outputs": [],
   "source": [
    "# Candy Basket Class\n",
    "class CandyBasket:\n",
    "    def __init__(self, *args):\n",
    "        self.candy_basket = []\n",
    "    \n",
    "    def add_candies(self, *args):\n",
    "        for arg in args:\n",
    "            self.candy_basket.append(arg)\n",
    "    \n",
    "    def get_candy_by_color(self,color):\n",
    "        colors = list(self.get_color_set())\n",
    "        color_candy = []\n",
    "        if color in colors:\n",
    "            for i in self.candy_basket:\n",
    "                if(i.get_color() == color):\n",
    "                    color_candy.append(i)\n",
    "            return color_candy\n",
    "        else:\n",
    "            raise ValueError(\"This color is not in basket\")\n",
    "    \n",
    "    def __len__(self):\n",
    "        print(\"Number of Candies: \"+ str(len(self.candy_basket)))\n",
    "    \n",
    "    def get_color_set(self):\n",
    "        colors = [i.get_color() for i in self.candy_basket]\n",
    "        colors_set = set(colors) \n",
    "        return colors_set\n",
    "    \n",
    "    def get_candy_count(self):\n",
    "        candies = []\n",
    "        colors = [i.get_color() for i in self.candy_basket] \n",
    "        for color in self.get_color_set():\n",
    "            candies.append(colors.count(color))\n",
    "        return candies\n",
    "    \n",
    "    def get_price(self):\n",
    "        price = 0\n",
    "        for candy in self.candy_basket:\n",
    "            price += candy.get_price()\n",
    "        print(\"Total price of candy basket is \"+str(price)+ \"baht\")\n",
    "    \n",
    "    def __str__(self):\n",
    "        colors = [i.get_color() for i in self.candy_basket]       \n",
    "        for color in self.get_color_set():\n",
    "            print(str(colors.count(color)) + \" \"+ str(color) + \" candies,\", end=\"\" )\n",
    "            \n",
    "        print(\"in basket and total candies is \",str(len(self.candy_basket)))\n",
    "        print()\n",
    "    \n",
    "    def plot(self):\n",
    "        colors = list(self.get_color_set())\n",
    "        candy_count = self.get_candy_count()\n",
    "        fig = plt.figure(figsize = (5, 5))\n",
    "        plt.bar(colors, candy_count, color ='blue',\n",
    "        width = 0.4)\n",
    "        plt.xlabel(\"Color\")\n",
    "        plt.ylabel(\"Count\")\n",
    "        plt.title(\"Candies Count\")\n",
    "        plt.show()\n",
    "    \n",
    "    def remove_candy(self, color):\n",
    "        for i,val in enumerate(self.candy_basket):\n",
    "            print(val.get_color())\n",
    "            if(val.get_color() == color):\n",
    "                self.candy_basket.pop(i)"
   ]
  },
  {
   "cell_type": "code",
   "execution_count": 127,
   "metadata": {},
   "outputs": [],
   "source": [
    "# basket objects\n",
    "basket1 = CandyBasket()\n",
    "basket2 = CandyBasket()\n",
    "\n",
    "red_candy1 = Candy('red')\n",
    "red_candy2 = Candy('red')\n",
    "red_candy3 = Candy('red')\n",
    "\n",
    "yellow_candy1 = Candy('yellow')\n",
    "yellow_candy2 = Candy('yellow')\n",
    "yellow_candy3 = Candy('yellow')\n",
    "\n",
    "blue_candy1 = Candy('blue')\n",
    "blue_candy2 = Candy('blue')\n",
    "blue_candy3 = Candy('blue')\n",
    "\n",
    "# adding red candies and yellow candies\n",
    "basket1.add_candies(red_candy1,red_candy2,red_candy3,yellow_candy1,yellow_candy2,yellow_candy3)\n",
    "basket2.add_candies(blue_candy1,blue_candy2,blue_candy3)"
   ]
  },
  {
   "cell_type": "code",
   "execution_count": 128,
   "metadata": {},
   "outputs": [
    {
     "name": "stdout",
     "output_type": "stream",
     "text": [
      "Number of Candies: 6\n",
      "Number of Candies: 3\n"
     ]
    }
   ],
   "source": [
    "# print number of candies in basket\n",
    "\n",
    "basket1.__len__()\n",
    "basket2.__len__()"
   ]
  },
  {
   "cell_type": "code",
   "execution_count": 129,
   "metadata": {},
   "outputs": [
    {
     "name": "stdout",
     "output_type": "stream",
     "text": [
      "3 yellow candies,3 red candies,in basket and total candies is  6\n",
      "\n",
      "3 blue candies,in basket and total candies is  3\n",
      "\n"
     ]
    }
   ],
   "source": [
    "# print content of candy basket\n",
    "basket1.__str__()\n",
    "basket2.__str__()"
   ]
  },
  {
   "cell_type": "code",
   "execution_count": 130,
   "metadata": {},
   "outputs": [
    {
     "data": {
      "image/png": "[encoded data removed]",
      "text/plain": [
       "<Figure size 360x360 with 1 Axes>"
      ]
     },
     "metadata": {
      "needs_background": "light"
     },
     "output_type": "display_data"
    },
    {
     "data": {
      "image/png": "[encoded data removed]",
      "text/plain": [
       "<Figure size 360x360 with 1 Axes>"
      ]
     },
     "metadata": {
      "needs_background": "light"
     },
     "output_type": "display_data"
    }
   ],
   "source": [
    "# plot basket\n",
    "\n",
    "basket1.plot()\n",
    "basket2.plot()"
   ]
  },
  {
   "cell_type": "code",
   "execution_count": 131,
   "metadata": {},
   "outputs": [
    {
     "name": "stdout",
     "output_type": "stream",
     "text": [
      "red\n",
      "red\n",
      "red\n",
      "yellow\n",
      "yellow\n",
      "1 yellow candies,3 red candies,in basket and total candies is  4\n",
      "\n"
     ]
    }
   ],
   "source": [
    "# remove candy\n",
    "\n",
    "basket1.remove_candy('yellow')\n",
    "basket1.__str__()"
   ]
  },
  {
   "cell_type": "code",
   "execution_count": 132,
   "metadata": {},
   "outputs": [
    {
     "name": "stdout",
     "output_type": "stream",
     "text": [
      "[<__main__.Candy object at 0x000001D0D773B9A0>, <__main__.Candy object at 0x000001D0D773B2B0>]\n"
     ]
    }
   ],
   "source": [
    "# add purple candy to baseket 2\n",
    "\n",
    "purple_candy1 = Candy('purple')\n",
    "purple_candy2 = Candy('purple')\n",
    "\n",
    "basket2.add_candies(purple_candy1,purple_candy2)\n",
    "\n",
    "# candy transfer\n",
    "basket = basket1.get_candy_by_color('red')\n",
    "\n",
    "def transfer_candy(basket1, basket2, color_to_transfer):\n",
    "        color_candy = basket2.get_candy_by_color(color_to_transfer)\n",
    "        print(color_candy)\n",
    "        for candy in color_candy:\n",
    "            basket1.add_candies(candy)\n",
    "\n",
    "transfer_candy(basket1,basket2,'purple')"
   ]
  },
  {
   "cell_type": "code",
   "execution_count": 133,
   "metadata": {},
   "outputs": [
    {
     "name": "stdout",
     "output_type": "stream",
     "text": [
      "1 yellow candies,2 purple candies,3 red candies,in basket and total candies is  6\n",
      "\n"
     ]
    }
   ],
   "source": [
    "#print basket 1 after add purple candy\n",
    "\n",
    "basket1.__str__()"
   ]
  },
  {
   "cell_type": "code",
   "execution_count": 134,
   "metadata": {},
   "outputs": [
    {
     "name": "stdout",
     "output_type": "stream",
     "text": [
      "Total price of candy basket is 24baht\n",
      "Total price of candy basket is 24baht\n"
     ]
    }
   ],
   "source": [
    "# print price of candy basket\n",
    "\n",
    "basket1.get_price()\n",
    "basket2.get_price()"
   ]
  },
  {
   "cell_type": "code",
   "execution_count": null,
   "metadata": {},
   "outputs": [],
   "source": []
  },
  {
   "cell_type": "code",
   "execution_count": null,
   "metadata": {},
   "outputs": [],
   "source": []
  },
  {
   "cell_type": "code",
   "execution_count": null,
   "metadata": {},
   "outputs": [],
   "source": []
  },
  {
   "cell_type": "markdown",
   "metadata": {},
   "source": [
    "## Question 2 (195 points): Data Science\n",
    "\n",
    "Complete the following data science pipeline:\n",
    "\n",
    "1) **Loading**:  Load boston data from sklearn.datasets (5 points) <br>\n",
    "\n",
    "2) **Feature Selection/Engineering**\n",
    "\n",
    "* Perform some basic exploratory data analysis as appropriate to determine what are the top five features potentially useful for the prediction (15 points) <br>\n",
    "\n",
    "* Create X using the top five features, and the corresponding y (10 points) <br>  \n",
    "\n",
    "* Do train test split the data **FROM SCRATCH** (5 points) <br>\n",
    "\n",
    "* Scale your data **FROM SCRATCH** using **Box-Cox transform** with $\\lambda$ = -1 (15 points) : (6.3.2.2. Mapping to a Gaussian distribution **Box-Cox transform**) https://scikit-learn.org/stable/modules/preprocessing.html#mapping-to-a-gaussian-distribution <br>\n",
    "\n",
    "$$\n",
    "x_i^{(\\lambda)} = \\begin{cases}\n",
    "      \\displaystyle\\frac{x_i^{(\\lambda)} - 1}{\\lambda} & \\text{if }  \\lambda \\neq 0  \\\\\n",
    "      \\ln (x_i) & \\text{if } \\lambda = 0 \\\\\n",
    "      \\end{cases}\n",
    "$$\n",
    "\n",
    "3) **Model Implementation**: Implement Linear Regression class **FROM SCRATCH** with the following features <br>\n",
    "* choice of **weight initialization** (normal distribution with mean=0 and std=1, random between 0-1, all zero) (15 points)\n",
    "* choice of **sampling method** (batch, mini batch, stochastic) (15 points) \n",
    "* **raise ValueError** where appropriate (5 points) \n",
    "* use **without replacement** for stochastic  (5 points) \n",
    "* choice of **loss function** (normal, ridge)   (15 points) \n",
    "    * normal loss function\n",
    "    \n",
    "        $$J(\\theta) = \\frac{1}{2}\\sum_{i=1}^m(h_\\theta(x^{(i)}) - y^{(i)})^2$$    \n",
    "    \n",
    "        $$\\frac{\\partial J}{\\partial \\theta_j} = \\sum_{i=1}^{m}(h^{(i)}-y^{(i)})x_j$$\n",
    "\n",
    "    * ridge loss function\n",
    "    \n",
    "        $$ J(\\theta) = \\frac{1}{2}\\sum_{i=1}^m(h_\\theta(x^{(i)}) - y^{(i)})^2 + \\lambda\\sum_{i=1}^n \\theta_i^2$$\n",
    "        \n",
    "        $$\\frac{\\partial J}{\\partial \\theta_j} = \\sum_{i=1}^{m}(h^{(i)}-y^{(i)})x_j + \\lambda \\theta_j$$\n",
    "\n",
    "* Implement a feature importance function **FROM SCRATCH** which will output a bar plot, plotting the importance scores of each features in sorted order (15 points).\n",
    "    * If we have scaled our data in our beginning (e.g., standard scaler), feature importance scores are simply the weights.  Larger weights imply stronger importance.  Anyhow, plotting them can be nasty since some weights can be very big, thus you may want to log-transform them. \n",
    "\n",
    "4) **Training/Experiment**: Implement a cross validation experiment **FROM SCRATCH** comparing their cross-validation accuracy, and output their feature importance scores (15 points)\n",
    "\n",
    "* mini-batch sampling, normal loss\n",
    "* mini-batch sampling, ridge loss with lambda of 0.05\n",
    "* stochastic sampling, normal loss\n",
    "* stochastic sampling, ridge loss with lambda of 0.05\n",
    "\n",
    "5) **Training/Testing**: Select the best parameters you found in 4), train and verify the best model with the testing set. Plot training and testing losses and accuracies as number of iters increases (10 points)\n",
    "    \n",
    "6) **Communication**: Interpret your results (e.g., overfitting, weights, accuracy, etc.).  Critical analyses will be used as main criteria for scoring (50 points)"
   ]
  },
  {
   "cell_type": "code",
   "execution_count": 174,
   "metadata": {},
   "outputs": [],
   "source": [
    "# Loading: Load boston data from sklearn.datasets \n",
    "from sklearn.datasets import load_boston\n",
    "from sklearn.model_selection import train_test_split\n",
    "import matplotlib.pyplot as plt\n",
    "import numpy as np\n",
    "import seaborn as sns\n",
    "import pandas as pd\n",
    "\n",
    "boston = load_boston()\n",
    "data = pd.DataFrame(data=boston['data'], columns = boston['feature_names'])\n",
    "\n",
    "data['target'] = boston['target']"
   ]
  },
  {
   "cell_type": "code",
   "execution_count": 175,
   "metadata": {},
   "outputs": [
    {
     "data": {
      "text/html": [
       "<div>\n",
       "<style scoped>\n",
       "    .dataframe tbody tr th:only-of-type {\n",
       "        vertical-align: middle;\n",
       "    }\n",
       "\n",
       "    .dataframe tbody tr th {\n",
       "        vertical-align: top;\n",
       "    }\n",
       "\n",
       "    .dataframe thead th {\n",
       "        text-align: right;\n",
       "    }\n",
       "</style>\n",
       "<table border=\"1\" class=\"dataframe\">\n",
       "  <thead>\n",
       "    <tr style=\"text-align: right;\">\n",
       "      <th></th>\n",
       "      <th>CRIM</th>\n",
       "      <th>ZN</th>\n",
       "      <th>INDUS</th>\n",
       "      <th>CHAS</th>\n",
       "      <th>NOX</th>\n",
       "      <th>RM</th>\n",
       "      <th>AGE</th>\n",
       "      <th>DIS</th>\n",
       "      <th>RAD</th>\n",
       "      <th>TAX</th>\n",
       "      <th>PTRATIO</th>\n",
       "      <th>B</th>\n",
       "      <th>LSTAT</th>\n",
       "      <th>target</th>\n",
       "    </tr>\n",
       "  </thead>\n",
       "  <tbody>\n",
       "    <tr>\n",
       "      <th>0</th>\n",
       "      <td>0.00632</td>\n",
       "      <td>18.0</td>\n",
       "      <td>2.31</td>\n",
       "      <td>0.0</td>\n",
       "      <td>0.538</td>\n",
       "      <td>6.575</td>\n",
       "      <td>65.2</td>\n",
       "      <td>4.0900</td>\n",
       "      <td>1.0</td>\n",
       "      <td>296.0</td>\n",
       "      <td>15.3</td>\n",
       "      <td>396.90</td>\n",
       "      <td>4.98</td>\n",
       "      <td>24.0</td>\n",
       "    </tr>\n",
       "    <tr>\n",
       "      <th>1</th>\n",
       "      <td>0.02731</td>\n",
       "      <td>0.0</td>\n",
       "      <td>7.07</td>\n",
       "      <td>0.0</td>\n",
       "      <td>0.469</td>\n",
       "      <td>6.421</td>\n",
       "      <td>78.9</td>\n",
       "      <td>4.9671</td>\n",
       "      <td>2.0</td>\n",
       "      <td>242.0</td>\n",
       "      <td>17.8</td>\n",
       "      <td>396.90</td>\n",
       "      <td>9.14</td>\n",
       "      <td>21.6</td>\n",
       "    </tr>\n",
       "    <tr>\n",
       "      <th>2</th>\n",
       "      <td>0.02729</td>\n",
       "      <td>0.0</td>\n",
       "      <td>7.07</td>\n",
       "      <td>0.0</td>\n",
       "      <td>0.469</td>\n",
       "      <td>7.185</td>\n",
       "      <td>61.1</td>\n",
       "      <td>4.9671</td>\n",
       "      <td>2.0</td>\n",
       "      <td>242.0</td>\n",
       "      <td>17.8</td>\n",
       "      <td>392.83</td>\n",
       "      <td>4.03</td>\n",
       "      <td>34.7</td>\n",
       "    </tr>\n",
       "    <tr>\n",
       "      <th>3</th>\n",
       "      <td>0.03237</td>\n",
       "      <td>0.0</td>\n",
       "      <td>2.18</td>\n",
       "      <td>0.0</td>\n",
       "      <td>0.458</td>\n",
       "      <td>6.998</td>\n",
       "      <td>45.8</td>\n",
       "      <td>6.0622</td>\n",
       "      <td>3.0</td>\n",
       "      <td>222.0</td>\n",
       "      <td>18.7</td>\n",
       "      <td>394.63</td>\n",
       "      <td>2.94</td>\n",
       "      <td>33.4</td>\n",
       "    </tr>\n",
       "    <tr>\n",
       "      <th>4</th>\n",
       "      <td>0.06905</td>\n",
       "      <td>0.0</td>\n",
       "      <td>2.18</td>\n",
       "      <td>0.0</td>\n",
       "      <td>0.458</td>\n",
       "      <td>7.147</td>\n",
       "      <td>54.2</td>\n",
       "      <td>6.0622</td>\n",
       "      <td>3.0</td>\n",
       "      <td>222.0</td>\n",
       "      <td>18.7</td>\n",
       "      <td>396.90</td>\n",
       "      <td>5.33</td>\n",
       "      <td>36.2</td>\n",
       "    </tr>\n",
       "  </tbody>\n",
       "</table>\n",
       "</div>"
      ],
      "text/plain": [
       "      CRIM    ZN  INDUS  CHAS    NOX     RM   AGE     DIS  RAD    TAX  \\\n",
       "0  0.00632  18.0   2.31   0.0  0.538  6.575  65.2  4.0900  1.0  296.0   \n",
       "1  0.02731   0.0   7.07   0.0  0.469  6.421  78.9  4.9671  2.0  242.0   \n",
       "2  0.02729   0.0   7.07   0.0  0.469  7.185  61.1  4.9671  2.0  242.0   \n",
       "3  0.03237   0.0   2.18   0.0  0.458  6.998  45.8  6.0622  3.0  222.0   \n",
       "4  0.06905   0.0   2.18   0.0  0.458  7.147  54.2  6.0622  3.0  222.0   \n",
       "\n",
       "   PTRATIO       B  LSTAT  target  \n",
       "0     15.3  396.90   4.98    24.0  \n",
       "1     17.8  396.90   9.14    21.6  \n",
       "2     17.8  392.83   4.03    34.7  \n",
       "3     18.7  394.63   2.94    33.4  \n",
       "4     18.7  396.90   5.33    36.2  "
      ]
     },
     "execution_count": 175,
     "metadata": {},
     "output_type": "execute_result"
    }
   ],
   "source": [
    "# print sample data\n",
    "data.head()"
   ]
  },
  {
   "cell_type": "code",
   "execution_count": 176,
   "metadata": {
    "scrolled": false
   },
   "outputs": [
    {
     "data": {
      "text/html": [
       "<div>\n",
       "<style scoped>\n",
       "    .dataframe tbody tr th:only-of-type {\n",
       "        vertical-align: middle;\n",
       "    }\n",
       "\n",
       "    .dataframe tbody tr th {\n",
       "        vertical-align: top;\n",
       "    }\n",
       "\n",
       "    .dataframe thead th {\n",
       "        text-align: right;\n",
       "    }\n",
       "</style>\n",
       "<table border=\"1\" class=\"dataframe\">\n",
       "  <thead>\n",
       "    <tr style=\"text-align: right;\">\n",
       "      <th></th>\n",
       "      <th>CRIM</th>\n",
       "      <th>ZN</th>\n",
       "      <th>INDUS</th>\n",
       "      <th>CHAS</th>\n",
       "      <th>NOX</th>\n",
       "      <th>RM</th>\n",
       "      <th>AGE</th>\n",
       "      <th>DIS</th>\n",
       "      <th>RAD</th>\n",
       "      <th>TAX</th>\n",
       "      <th>PTRATIO</th>\n",
       "      <th>B</th>\n",
       "      <th>LSTAT</th>\n",
       "      <th>target</th>\n",
       "    </tr>\n",
       "  </thead>\n",
       "  <tbody>\n",
       "    <tr>\n",
       "      <th>501</th>\n",
       "      <td>0.06263</td>\n",
       "      <td>0.0</td>\n",
       "      <td>11.93</td>\n",
       "      <td>0.0</td>\n",
       "      <td>0.573</td>\n",
       "      <td>6.593</td>\n",
       "      <td>69.1</td>\n",
       "      <td>2.4786</td>\n",
       "      <td>1.0</td>\n",
       "      <td>273.0</td>\n",
       "      <td>21.0</td>\n",
       "      <td>391.99</td>\n",
       "      <td>9.67</td>\n",
       "      <td>22.4</td>\n",
       "    </tr>\n",
       "    <tr>\n",
       "      <th>502</th>\n",
       "      <td>0.04527</td>\n",
       "      <td>0.0</td>\n",
       "      <td>11.93</td>\n",
       "      <td>0.0</td>\n",
       "      <td>0.573</td>\n",
       "      <td>6.120</td>\n",
       "      <td>76.7</td>\n",
       "      <td>2.2875</td>\n",
       "      <td>1.0</td>\n",
       "      <td>273.0</td>\n",
       "      <td>21.0</td>\n",
       "      <td>396.90</td>\n",
       "      <td>9.08</td>\n",
       "      <td>20.6</td>\n",
       "    </tr>\n",
       "    <tr>\n",
       "      <th>503</th>\n",
       "      <td>0.06076</td>\n",
       "      <td>0.0</td>\n",
       "      <td>11.93</td>\n",
       "      <td>0.0</td>\n",
       "      <td>0.573</td>\n",
       "      <td>6.976</td>\n",
       "      <td>91.0</td>\n",
       "      <td>2.1675</td>\n",
       "      <td>1.0</td>\n",
       "      <td>273.0</td>\n",
       "      <td>21.0</td>\n",
       "      <td>396.90</td>\n",
       "      <td>5.64</td>\n",
       "      <td>23.9</td>\n",
       "    </tr>\n",
       "    <tr>\n",
       "      <th>504</th>\n",
       "      <td>0.10959</td>\n",
       "      <td>0.0</td>\n",
       "      <td>11.93</td>\n",
       "      <td>0.0</td>\n",
       "      <td>0.573</td>\n",
       "      <td>6.794</td>\n",
       "      <td>89.3</td>\n",
       "      <td>2.3889</td>\n",
       "      <td>1.0</td>\n",
       "      <td>273.0</td>\n",
       "      <td>21.0</td>\n",
       "      <td>393.45</td>\n",
       "      <td>6.48</td>\n",
       "      <td>22.0</td>\n",
       "    </tr>\n",
       "    <tr>\n",
       "      <th>505</th>\n",
       "      <td>0.04741</td>\n",
       "      <td>0.0</td>\n",
       "      <td>11.93</td>\n",
       "      <td>0.0</td>\n",
       "      <td>0.573</td>\n",
       "      <td>6.030</td>\n",
       "      <td>80.8</td>\n",
       "      <td>2.5050</td>\n",
       "      <td>1.0</td>\n",
       "      <td>273.0</td>\n",
       "      <td>21.0</td>\n",
       "      <td>396.90</td>\n",
       "      <td>7.88</td>\n",
       "      <td>11.9</td>\n",
       "    </tr>\n",
       "  </tbody>\n",
       "</table>\n",
       "</div>"
      ],
      "text/plain": [
       "        CRIM   ZN  INDUS  CHAS    NOX     RM   AGE     DIS  RAD    TAX  \\\n",
       "501  0.06263  0.0  11.93   0.0  0.573  6.593  69.1  2.4786  1.0  273.0   \n",
       "502  0.04527  0.0  11.93   0.0  0.573  6.120  76.7  2.2875  1.0  273.0   \n",
       "503  0.06076  0.0  11.93   0.0  0.573  6.976  91.0  2.1675  1.0  273.0   \n",
       "504  0.10959  0.0  11.93   0.0  0.573  6.794  89.3  2.3889  1.0  273.0   \n",
       "505  0.04741  0.0  11.93   0.0  0.573  6.030  80.8  2.5050  1.0  273.0   \n",
       "\n",
       "     PTRATIO       B  LSTAT  target  \n",
       "501     21.0  391.99   9.67    22.4  \n",
       "502     21.0  396.90   9.08    20.6  \n",
       "503     21.0  396.90   5.64    23.9  \n",
       "504     21.0  393.45   6.48    22.0  \n",
       "505     21.0  396.90   7.88    11.9  "
      ]
     },
     "execution_count": 176,
     "metadata": {},
     "output_type": "execute_result"
    }
   ],
   "source": [
    "# print sample data\n",
    "data.tail()"
   ]
  },
  {
   "cell_type": "code",
   "execution_count": 177,
   "metadata": {
    "scrolled": true
   },
   "outputs": [
    {
     "data": {
      "text/html": [
       "<div>\n",
       "<style scoped>\n",
       "    .dataframe tbody tr th:only-of-type {\n",
       "        vertical-align: middle;\n",
       "    }\n",
       "\n",
       "    .dataframe tbody tr th {\n",
       "        vertical-align: top;\n",
       "    }\n",
       "\n",
       "    .dataframe thead th {\n",
       "        text-align: right;\n",
       "    }\n",
       "</style>\n",
       "<table border=\"1\" class=\"dataframe\">\n",
       "  <thead>\n",
       "    <tr style=\"text-align: right;\">\n",
       "      <th></th>\n",
       "      <th>CRIM</th>\n",
       "      <th>ZN</th>\n",
       "      <th>INDUS</th>\n",
       "      <th>CHAS</th>\n",
       "      <th>NOX</th>\n",
       "      <th>RM</th>\n",
       "      <th>AGE</th>\n",
       "      <th>DIS</th>\n",
       "      <th>RAD</th>\n",
       "      <th>TAX</th>\n",
       "      <th>PTRATIO</th>\n",
       "      <th>B</th>\n",
       "      <th>LSTAT</th>\n",
       "      <th>target</th>\n",
       "    </tr>\n",
       "  </thead>\n",
       "  <tbody>\n",
       "    <tr>\n",
       "      <th>count</th>\n",
       "      <td>506.000000</td>\n",
       "      <td>506.000000</td>\n",
       "      <td>506.000000</td>\n",
       "      <td>506.000000</td>\n",
       "      <td>506.000000</td>\n",
       "      <td>506.000000</td>\n",
       "      <td>506.000000</td>\n",
       "      <td>506.000000</td>\n",
       "      <td>506.000000</td>\n",
       "      <td>506.000000</td>\n",
       "      <td>506.000000</td>\n",
       "      <td>506.000000</td>\n",
       "      <td>506.000000</td>\n",
       "      <td>506.000000</td>\n",
       "    </tr>\n",
       "    <tr>\n",
       "      <th>mean</th>\n",
       "      <td>3.613524</td>\n",
       "      <td>11.363636</td>\n",
       "      <td>11.136779</td>\n",
       "      <td>0.069170</td>\n",
       "      <td>0.554695</td>\n",
       "      <td>6.284634</td>\n",
       "      <td>68.574901</td>\n",
       "      <td>3.795043</td>\n",
       "      <td>9.549407</td>\n",
       "      <td>408.237154</td>\n",
       "      <td>18.455534</td>\n",
       "      <td>356.674032</td>\n",
       "      <td>12.653063</td>\n",
       "      <td>22.532806</td>\n",
       "    </tr>\n",
       "    <tr>\n",
       "      <th>std</th>\n",
       "      <td>8.601545</td>\n",
       "      <td>23.322453</td>\n",
       "      <td>6.860353</td>\n",
       "      <td>0.253994</td>\n",
       "      <td>0.115878</td>\n",
       "      <td>0.702617</td>\n",
       "      <td>28.148861</td>\n",
       "      <td>2.105710</td>\n",
       "      <td>8.707259</td>\n",
       "      <td>168.537116</td>\n",
       "      <td>2.164946</td>\n",
       "      <td>91.294864</td>\n",
       "      <td>7.141062</td>\n",
       "      <td>9.197104</td>\n",
       "    </tr>\n",
       "    <tr>\n",
       "      <th>min</th>\n",
       "      <td>0.006320</td>\n",
       "      <td>0.000000</td>\n",
       "      <td>0.460000</td>\n",
       "      <td>0.000000</td>\n",
       "      <td>0.385000</td>\n",
       "      <td>3.561000</td>\n",
       "      <td>2.900000</td>\n",
       "      <td>1.129600</td>\n",
       "      <td>1.000000</td>\n",
       "      <td>187.000000</td>\n",
       "      <td>12.600000</td>\n",
       "      <td>0.320000</td>\n",
       "      <td>1.730000</td>\n",
       "      <td>5.000000</td>\n",
       "    </tr>\n",
       "    <tr>\n",
       "      <th>25%</th>\n",
       "      <td>0.082045</td>\n",
       "      <td>0.000000</td>\n",
       "      <td>5.190000</td>\n",
       "      <td>0.000000</td>\n",
       "      <td>0.449000</td>\n",
       "      <td>5.885500</td>\n",
       "      <td>45.025000</td>\n",
       "      <td>2.100175</td>\n",
       "      <td>4.000000</td>\n",
       "      <td>279.000000</td>\n",
       "      <td>17.400000</td>\n",
       "      <td>375.377500</td>\n",
       "      <td>6.950000</td>\n",
       "      <td>17.025000</td>\n",
       "    </tr>\n",
       "    <tr>\n",
       "      <th>50%</th>\n",
       "      <td>0.256510</td>\n",
       "      <td>0.000000</td>\n",
       "      <td>9.690000</td>\n",
       "      <td>0.000000</td>\n",
       "      <td>0.538000</td>\n",
       "      <td>6.208500</td>\n",
       "      <td>77.500000</td>\n",
       "      <td>3.207450</td>\n",
       "      <td>5.000000</td>\n",
       "      <td>330.000000</td>\n",
       "      <td>19.050000</td>\n",
       "      <td>391.440000</td>\n",
       "      <td>11.360000</td>\n",
       "      <td>21.200000</td>\n",
       "    </tr>\n",
       "    <tr>\n",
       "      <th>75%</th>\n",
       "      <td>3.677083</td>\n",
       "      <td>12.500000</td>\n",
       "      <td>18.100000</td>\n",
       "      <td>0.000000</td>\n",
       "      <td>0.624000</td>\n",
       "      <td>6.623500</td>\n",
       "      <td>94.075000</td>\n",
       "      <td>5.188425</td>\n",
       "      <td>24.000000</td>\n",
       "      <td>666.000000</td>\n",
       "      <td>20.200000</td>\n",
       "      <td>396.225000</td>\n",
       "      <td>16.955000</td>\n",
       "      <td>25.000000</td>\n",
       "    </tr>\n",
       "    <tr>\n",
       "      <th>max</th>\n",
       "      <td>88.976200</td>\n",
       "      <td>100.000000</td>\n",
       "      <td>27.740000</td>\n",
       "      <td>1.000000</td>\n",
       "      <td>0.871000</td>\n",
       "      <td>8.780000</td>\n",
       "      <td>100.000000</td>\n",
       "      <td>12.126500</td>\n",
       "      <td>24.000000</td>\n",
       "      <td>711.000000</td>\n",
       "      <td>22.000000</td>\n",
       "      <td>396.900000</td>\n",
       "      <td>37.970000</td>\n",
       "      <td>50.000000</td>\n",
       "    </tr>\n",
       "  </tbody>\n",
       "</table>\n",
       "</div>"
      ],
      "text/plain": [
       "             CRIM          ZN       INDUS        CHAS         NOX          RM  \\\n",
       "count  506.000000  506.000000  506.000000  506.000000  506.000000  506.000000   \n",
       "mean     3.613524   11.363636   11.136779    0.069170    0.554695    6.284634   \n",
       "std      8.601545   23.322453    6.860353    0.253994    0.115878    0.702617   \n",
       "min      0.006320    0.000000    0.460000    0.000000    0.385000    3.561000   \n",
       "25%      0.082045    0.000000    5.190000    0.000000    0.449000    5.885500   \n",
       "50%      0.256510    0.000000    9.690000    0.000000    0.538000    6.208500   \n",
       "75%      3.677083   12.500000   18.100000    0.000000    0.624000    6.623500   \n",
       "max     88.976200  100.000000   27.740000    1.000000    0.871000    8.780000   \n",
       "\n",
       "              AGE         DIS         RAD         TAX     PTRATIO           B  \\\n",
       "count  506.000000  506.000000  506.000000  506.000000  506.000000  506.000000   \n",
       "mean    68.574901    3.795043    9.549407  408.237154   18.455534  356.674032   \n",
       "std     28.148861    2.105710    8.707259  168.537116    2.164946   91.294864   \n",
       "min      2.900000    1.129600    1.000000  187.000000   12.600000    0.320000   \n",
       "25%     45.025000    2.100175    4.000000  279.000000   17.400000  375.377500   \n",
       "50%     77.500000    3.207450    5.000000  330.000000   19.050000  391.440000   \n",
       "75%     94.075000    5.188425   24.000000  666.000000   20.200000  396.225000   \n",
       "max    100.000000   12.126500   24.000000  711.000000   22.000000  396.900000   \n",
       "\n",
       "            LSTAT      target  \n",
       "count  506.000000  506.000000  \n",
       "mean    12.653063   22.532806  \n",
       "std      7.141062    9.197104  \n",
       "min      1.730000    5.000000  \n",
       "25%      6.950000   17.025000  \n",
       "50%     11.360000   21.200000  \n",
       "75%     16.955000   25.000000  \n",
       "max     37.970000   50.000000  "
      ]
     },
     "execution_count": 177,
     "metadata": {},
     "output_type": "execute_result"
    }
   ],
   "source": [
    "# describe data\n",
    "data.describe()"
   ]
  },
  {
   "cell_type": "code",
   "execution_count": 178,
   "metadata": {},
   "outputs": [
    {
     "data": {
      "text/plain": [
       "False"
      ]
     },
     "execution_count": 178,
     "metadata": {},
     "output_type": "execute_result"
    }
   ],
   "source": [
    "# check null value\n",
    "data.isnull().values.any()"
   ]
  },
  {
   "cell_type": "code",
   "execution_count": 179,
   "metadata": {},
   "outputs": [
    {
     "name": "stderr",
     "output_type": "stream",
     "text": [
      "C:\\Users\\damia\\AppData\\Local\\Temp/ipykernel_16504/4139249827.py:6: DeprecationWarning: `np.bool` is a deprecated alias for the builtin `bool`. To silence this warning, use `bool` by itself. Doing this will not modify any behavior and is safe. If you specifically wanted the numpy scalar type, use `np.bool_` here.\n",
      "Deprecated in NumPy 1.20; for more details and guidance: https://numpy.org/devdocs/release/1.20.0-notes.html#deprecations\n",
      "  mask = np.triu(np.ones_like(corr, dtype=np.bool))\n"
     ]
    },
    {
     "data": {
      "text/plain": [
       "<AxesSubplot:>"
      ]
     },
     "execution_count": 179,
     "metadata": {},
     "output_type": "execute_result"
    },
    {
     "data": {
      "image/png": "[encoded data removed]",
      "text/plain": [
       "<Figure size 792x648 with 2 Axes>"
      ]
     },
     "metadata": {},
     "output_type": "display_data"
    }
   ],
   "source": [
    "# corrleation heat map\n",
    "data.head()\n",
    "corr = data.corr()\n",
    "\n",
    "# visualise the data with seaborn\n",
    "mask = np.triu(np.ones_like(corr, dtype=np.bool))\n",
    "sns.set_style(style = 'white')\n",
    "f, ax = plt.subplots(figsize=(11, 9))\n",
    "cmap = sns.diverging_palette(10, 250, as_cmap=True)\n",
    "sns.heatmap(corr, mask=mask, cmap=cmap, square=True, annot=True, linewidths=.5, cbar_kws={\"shrink\": .5}, ax=ax)"
   ]
  },
  {
   "cell_type": "code",
   "execution_count": 180,
   "metadata": {},
   "outputs": [],
   "source": [
    "# due to heatmeap, select best five featues\n",
    "important_features = data[['TAX','PTRATIO','NOX','CHAS','B']]\n",
    "X = important_features.to_numpy()\n",
    "y = data['target'].to_numpy()"
   ]
  },
  {
   "cell_type": "code",
   "execution_count": 181,
   "metadata": {},
   "outputs": [],
   "source": [
    "# Train test split from scratch\n",
    "def partition(data, X, y, percent_train):\n",
    "    idx = data.index.tolist()\n",
    "\n",
    "#     idx = np.arange(0,y.shape[0])\n",
    "    shuffle_idx = list(idx)\n",
    "\n",
    "    np.random.shuffle(shuffle_idx)\n",
    "\n",
    "    train, test = np.split(idx,[int(percent_train * len(shuffle_idx))])\n",
    "\n",
    "    X_train = X[train]\n",
    "    X_test = X[test]\n",
    "    y_train = y[train]\n",
    "    y_test = y[test]\n",
    "\n",
    "    data.reset_index(drop=True) \n",
    "\n",
    "    return  X_train, y_train, X_test, y_test\n",
    "\n",
    "\n",
    "X_train,y_train,X_test,y_test = partition(data,X,y,0.7)\n"
   ]
  },
  {
   "cell_type": "code",
   "execution_count": 185,
   "metadata": {},
   "outputs": [],
   "source": [
    "class LinearRegression:\n",
    "    \n",
    "    def __init__(self,X = None, y = None, l=0.01, alpha=0.000000001, max_iter=10000, \n",
    "            loss_old=10000, tol=1e-5, grad_method = \"batch\", loss = \"normal\"):\n",
    "        self.l = l\n",
    "        self.X = X\n",
    "        self.y = y\n",
    "        self.grad_method = grad_method\n",
    "        self.max_iter = max_iter\n",
    "        self.alpha = alpha\n",
    "        self.tol = tol\n",
    "        self.loss_old = loss_old\n",
    "#         self.decay = decay\n",
    "#         self.decay_iter = decay_iter\n",
    "#         self.decay_rate = decay_rate\n",
    "#         self.stop_delay_counter = stop_delay_counter\n",
    "#         self.verbose = verbose\n",
    "#         self.lam = lam\n",
    "#         self.poly= ploy\n",
    "#         self.poly_deg = poly_deg\n",
    "        \n",
    "    \n",
    "    def hypothesis(self,X,W):\n",
    "        return np.dot(X, W)\n",
    "  \n",
    "    \n",
    "    def gradient(self, X, error):\n",
    "        return X.T @ error\n",
    "  \n",
    "    def loss(X, y, theta):\n",
    "        if self.loss == \"normal\":\n",
    "            h = hypothesis(X, theta)\n",
    "            J = np.dot((h - y).transpose(), (h - y))\n",
    "            J /= 2\n",
    "            return J[0]     \n",
    "        else:\n",
    "            h = hypothesis(X, theta)\n",
    "            J = np.dot((h - y).transpose(), (h - y))\n",
    "            J /= 2 + (0.9* np.sum(W)**2)\n",
    "            return J[0]\n",
    "    \n",
    "        \n",
    "    def fit(self, X = None, y= None):\n",
    "        self.W = np.zeros(self.X.shape[1])\n",
    "        batch_size = int(0.3 * self.X.shape[0])\n",
    "        list_of_used_ix = []\n",
    "        iter_stop = 0\n",
    "        for i in range(self.max_iter):\n",
    "            if self.grad_method == \"sto\":\n",
    "                i = np.random.randint(self.X.shape[0])\n",
    "                while i in list_of_used_ix:\n",
    "                    i = np.random.randint(self.X.shape[0])\n",
    "                X_train = self.X[i, :].reshape(1, -1)\n",
    "                y_train = self.y[i]\n",
    "                list_of_used_ix.append(i)\n",
    "                if len(list_of_used_ix) == self.X.shape[0]:\n",
    "                    list_of_used_ix = []\n",
    "            \n",
    "            elif self.grad_method == \"mini-batch\":\n",
    "               ix = np.random.randint(0, self.X.shape[0])\n",
    "               X_train = self.X[ix:ix+batch_size]\n",
    "               y_train = self.y[ix:ix+batch_size]\n",
    "            else:\n",
    "                X_train = self.X\n",
    "                y_train = self.y\n",
    "            \n",
    "            yhat = self.hypothesis(X_train, self.W)\n",
    "            error = yhat - y_train\n",
    "            \n",
    "            loss_new = self.mse(yhat, y_train)\n",
    "            if self.delta_loss(loss_new, self.loss_old, self.tol):  #np.allclose\n",
    "                iter_stop = i\n",
    "                break\n",
    "            self.loss_old = loss_new\n",
    "            grad = self.gradient(X_train, error)\n",
    "            self.W = self.W - self.alpha * grad\n",
    "            \n",
    "    \n",
    "    def delta_loss(self, loss_new, loss_old, tol):\n",
    "        return np.abs(loss_new - loss_old) < tol\n",
    "    \n",
    "    def predict(self, X_test):\n",
    "        return self.hypothesis(X_test, self.W)\n",
    "    \n",
    "#     def score(self):\n",
    "#         pass\n",
    "    \n",
    "    def mse(self, yhat, y):\n",
    "        return ((yhat - y)**2 / yhat.shape[0]).sum()\n",
    "    \n",
    "    def r2_score(self,y, y_hat):\n",
    "        return 1 - (np.sum((np.array(y_hat)-np.array(y))**2)/\n",
    "                np.sum((np.array(y)-np.mean(np.array(y)))**2))\n",
    "    \n",
    "    def get_params(self, deep = False):\n",
    "        return {'l':self.l}"
   ]
  },
  {
   "cell_type": "code",
   "execution_count": 189,
   "metadata": {},
   "outputs": [],
   "source": [
    "# r2 scores from scratch\n",
    "def r2_score(y, y_hat):\n",
    "        return 1 - (np.sum((np.array(y_hat)-np.array(y))**2)/\n",
    "                np.sum((np.array(y)-np.mean(np.array(y)))**2))"
   ]
  },
  {
   "cell_type": "code",
   "execution_count": 193,
   "metadata": {},
   "outputs": [
    {
     "name": "stdout",
     "output_type": "stream",
     "text": [
      "[23.30540287 23.05610154 32.21339452 32.71531629 32.86615098 32.69317947\n",
      " 32.09647893 31.21470454 32.32623445 31.30285459 31.35853929 31.36406164\n",
      " 29.93795474 23.12973775 32.13187619 32.12487869 32.74149382 31.78632093\n",
      " 31.11255473 32.9203487  32.9203487  32.92034884 31.67089186 32.92034884\n",
      " 32.92034884 32.80381153 32.92034884 32.92034884 32.9203502  32.9203502\n",
      " 28.82421125 32.9203502  32.9203502  32.9203502  32.03599428 32.9203502\n",
      " 32.82925932 32.23735305 32.9203502  32.92034987 32.92034987 32.7389057\n",
      " 32.92034987 32.78021007 32.92034987 30.75408354 32.92034987 32.92034987\n",
      " 32.15363763 32.92034987 30.43323715 32.48038464 31.93641935 30.53022705\n",
      " 29.88668743 24.89771042 18.37899682 19.57571699 19.3448551  26.06345232\n",
      " 21.5384163  19.28806543 19.0785933  22.98001167 18.88977335 20.06989984\n",
      " 30.03826534 30.08362638 29.03515452 18.3760473  18.41771906 18.56634544\n",
      " 19.19217587 18.97717634 21.8504111  20.52240207 21.36065493 21.28247167\n",
      " 21.89539892 21.97801367 21.99424038 22.33426506 19.29691921 18.62682967\n",
      " 20.82591822 32.92035206 32.71936208 32.51689694 32.8757286  32.54529369\n",
      " 27.15323036 19.87112362 30.01097598 32.61130692 32.9203508  29.50204596\n",
      " 18.29491835 31.38581995 32.48481105 32.14478763 18.52946813 20.16099048\n",
      " 18.66960793 18.41219324 28.3219213  32.9203508  27.69571765 32.71862324\n",
      " 32.9203508  32.8067638  32.9203481  30.61541712 19.09481889 30.50072044\n",
      " 31.88183489 32.9203446  32.9203446  32.86244249 32.79016209 32.10089712\n",
      " 31.28587213 29.44856554 32.89489975 31.17154895 32.28602918 32.41953078\n",
      " 32.92034236 32.77909619 32.86059855 32.77356435 31.95522404 32.61498748\n",
      " 32.7647158  32.60023592 34.08657551 32.20427667 31.25943936 33.90291861\n",
      " 34.15332631 25.38286579 25.38286579 25.24973297 25.38286579 25.38286579\n",
      " 25.38286579 25.34119264 25.38286579 21.97112212 22.1521975  22.1521975\n",
      " 22.02496531 22.1521975 ]\n",
      "-2.3158374342893167\n"
     ]
    }
   ],
   "source": [
    "clf1 = LinearRegression(X_train,y_train,grad_method =\"sto\")\n",
    "clf1.fit()\n",
    "yhat1 = clf1.predict(X_test)\n",
    "print(yhat1)\n",
    "print(r2_score(y_test,yhat1))"
   ]
  },
  {
   "cell_type": "code",
   "execution_count": 194,
   "metadata": {
    "scrolled": false
   },
   "outputs": [
    {
     "name": "stdout",
     "output_type": "stream",
     "text": [
      "[23.33307197 23.08349215 32.25263406 32.7551165  32.90611967 32.73295495\n",
      " 32.13558787 31.2528285  32.36560004 31.34107701 31.39682392 31.40235243\n",
      " 29.97465251 23.15883043 32.17102466 32.16401934 32.78132327 31.82508341\n",
      " 31.15056457 32.96037794 32.96037794 32.96037808 31.7095254  32.96037808\n",
      " 32.96037808 32.84371059 32.96037808 32.96037808 32.96037944 32.96037944\n",
      " 28.85966492 32.96037944 32.96037944 32.96037944 32.07503565 32.96037944\n",
      " 32.86918681 32.27661935 32.96037944 32.96037911 32.96037911 32.77873226\n",
      " 32.96037911 32.82008276 32.96037911 30.79169296 32.96037911 32.96037911\n",
      " 32.19281042 32.96037911 30.47048817 32.51992242 31.97534949 30.56758642\n",
      " 29.92332793 24.928778   18.4027827  19.60083966 19.36971989 26.09582208\n",
      " 21.56573139 19.31286678 19.10316066 23.0089371  18.9141298  20.09557453\n",
      " 30.07507516 30.12048687 29.07084382 18.39982989 18.44154819 18.5903406\n",
      " 19.2168701  19.00163041 21.87807471 20.54858223 21.38777146 21.30950087\n",
      " 21.92311278 22.00581981 22.02206465 22.36246916 19.32173045 18.6508924\n",
      " 20.85243743 32.96038131 32.75916681 32.55647551 32.915708   32.58490398\n",
      " 27.18681746 19.89657627 30.04775532 32.65099094 32.96038004 29.5382568\n",
      " 18.31861032 31.42413505 32.52435377 32.18395053 18.55342209 20.18676692\n",
      " 18.69371844 18.4360162  28.35681389 32.96038004 27.72991074 32.75842715\n",
      " 32.96038004 32.84666616 32.96037733 30.65287164 19.11940438 30.53804684\n",
      " 31.92070406 32.96037383 32.96037383 32.90240704 32.83004591 32.14001099\n",
      " 31.32407558 29.48471664 32.93490055 31.2096247  32.32534985 32.45900058\n",
      " 32.96037158 32.81896764 32.90056104 32.81342962 31.99417518 32.65467561\n",
      " 32.80457118 32.63990758 34.12812706 32.24372561 31.29783288 33.94426501\n",
      " 34.19495243 25.41313295 25.41313295 25.27985142 25.41313295 25.41313295\n",
      " 25.41313295 25.37141324 25.41313295 21.9970028  22.17828045 22.17828045\n",
      " 22.05090613 22.17828045]\n",
      "-2.3291337404864123\n"
     ]
    }
   ],
   "source": [
    "clf2 = LinearRegression(X_train,y_train,grad_method = \"sto\", loss = \"ridge\")\n",
    "clf2.fit()\n",
    "yhat2= clf2.predict(X_test)\n",
    "print(yhat2)\n",
    "print(r2_score(y_test,yhat2))"
   ]
  },
  {
   "cell_type": "code",
   "execution_count": 195,
   "metadata": {
    "scrolled": false
   },
   "outputs": [
    {
     "name": "stdout",
     "output_type": "stream",
     "text": [
      "[24.6930786  24.17685987 20.22565853 21.26496871 21.57729631 21.21828389\n",
      " 19.98271895 18.15686249 20.45846491 18.34023837 18.45553864 18.4661266\n",
      " 15.51314168  1.41562101 20.05600422 20.04236171 21.31916305 19.3404762\n",
      " 17.94618405 21.68866684 21.68866684 21.68866736 19.10146464 21.68866736\n",
      " 21.68866736 21.44735801 21.68866736 21.68866736 21.68867234 21.68867234\n",
      " 13.20695435 21.68867234 21.68867234 21.68867234 19.85747042 21.68867234\n",
      " 21.50005396 20.27441631 21.68867234 21.68867114 21.68867114 21.31296166\n",
      " 21.68867114 21.39848902 21.68867114 17.20306643 21.68867114 21.68867114\n",
      " 20.10106947 21.68867114 16.5387021  20.777652   19.65128134 16.73953282\n",
      " 15.40697531  5.07649173 -8.42155881 -5.94355621 -6.42159307  7.49034881\n",
      " -1.8794627  -6.53917909 -6.972925    1.10559257 -7.36390723 -4.9202616\n",
      " 15.72085099 15.81477836 13.64374002 -8.42766498 -8.34137914 -8.03361703\n",
      " -6.73774109 -7.18292523 -1.23342807 -3.9832855  -2.24755456 -2.40944564\n",
      " -1.14028067 -0.96920376 -0.93560373 -0.23152562 -6.52084131 -7.90837004\n",
      " -3.35480163 21.68867922 21.27249697 20.85326016 21.59627913 20.91206023\n",
      "  9.74692123 -5.33185825 15.66434562 21.04875128 21.68867458 14.61052169\n",
      " -8.59564814 18.51118033 20.78681909 20.08274562 -8.1099749  -4.73164408\n",
      " -7.81979278 -8.35281152 12.16688276 21.68867458 10.87022685 21.27096505\n",
      " 21.68867458 21.45347433 21.68866461 16.91593232 -6.9393291  16.67842895\n",
      " 19.53824945 21.68865171 21.68865171 21.56875242 21.41908779 19.99185578\n",
      " 18.30421248 14.49977212 21.63596659 18.06749012 20.37520163 20.65163829\n",
      " 21.68864346 21.39617042 21.56493424 21.38471587 19.69021376 21.05636065\n",
      " 21.36639734 21.02581517 20.99464611 17.09704201 15.14060359 20.6143548\n",
      " 21.13286443 25.11447607 25.11447607 24.83880305 25.11447607 25.11447607\n",
      " 25.11447607 25.02818507 25.11447607 26.16895812 26.54390397 26.54390397\n",
      " 26.28044915 26.54390397]\n",
      "-1.1273458311828901\n"
     ]
    }
   ],
   "source": [
    "clf3 = LinearRegression(X_train,y_train,grad_method = \"batch\")\n",
    "clf3.fit()\n",
    "yhat3 = clf3.predict(X_test)\n",
    "print(yhat3)\n",
    "print(r2_score(y_test,yhat3))"
   ]
  },
  {
   "cell_type": "code",
   "execution_count": 196,
   "metadata": {},
   "outputs": [
    {
     "name": "stdout",
     "output_type": "stream",
     "text": [
      "[24.6930786  24.17685987 20.22565853 21.26496871 21.57729631 21.21828389\n",
      " 19.98271895 18.15686249 20.45846491 18.34023837 18.45553864 18.4661266\n",
      " 15.51314168  1.41562101 20.05600422 20.04236171 21.31916305 19.3404762\n",
      " 17.94618405 21.68866684 21.68866684 21.68866736 19.10146464 21.68866736\n",
      " 21.68866736 21.44735801 21.68866736 21.68866736 21.68867234 21.68867234\n",
      " 13.20695435 21.68867234 21.68867234 21.68867234 19.85747042 21.68867234\n",
      " 21.50005396 20.27441631 21.68867234 21.68867114 21.68867114 21.31296166\n",
      " 21.68867114 21.39848902 21.68867114 17.20306643 21.68867114 21.68867114\n",
      " 20.10106947 21.68867114 16.5387021  20.777652   19.65128134 16.73953282\n",
      " 15.40697531  5.07649173 -8.42155881 -5.94355621 -6.42159307  7.49034881\n",
      " -1.8794627  -6.53917909 -6.972925    1.10559257 -7.36390723 -4.9202616\n",
      " 15.72085099 15.81477836 13.64374002 -8.42766498 -8.34137914 -8.03361703\n",
      " -6.73774109 -7.18292523 -1.23342807 -3.9832855  -2.24755456 -2.40944564\n",
      " -1.14028067 -0.96920376 -0.93560373 -0.23152562 -6.52084131 -7.90837004\n",
      " -3.35480163 21.68867922 21.27249697 20.85326016 21.59627913 20.91206023\n",
      "  9.74692123 -5.33185825 15.66434562 21.04875128 21.68867458 14.61052169\n",
      " -8.59564814 18.51118033 20.78681909 20.08274562 -8.1099749  -4.73164408\n",
      " -7.81979278 -8.35281152 12.16688276 21.68867458 10.87022685 21.27096505\n",
      " 21.68867458 21.45347433 21.68866461 16.91593232 -6.9393291  16.67842895\n",
      " 19.53824945 21.68865171 21.68865171 21.56875242 21.41908779 19.99185578\n",
      " 18.30421248 14.49977212 21.63596659 18.06749012 20.37520163 20.65163829\n",
      " 21.68864346 21.39617042 21.56493424 21.38471587 19.69021376 21.05636065\n",
      " 21.36639734 21.02581517 20.99464611 17.09704201 15.14060359 20.6143548\n",
      " 21.13286443 25.11447607 25.11447607 24.83880305 25.11447607 25.11447607\n",
      " 25.11447607 25.02818507 25.11447607 26.16895812 26.54390397 26.54390397\n",
      " 26.28044915 26.54390397]\n",
      "-1.1273458311828901\n"
     ]
    }
   ],
   "source": [
    "clf3 = LinearRegression(X_train,y_train,grad_method = \"batch\", loss = \"ridge\")\n",
    "clf3.fit()\n",
    "yhat3 = clf3.predict(X_test)\n",
    "print(yhat3)\n",
    "print(r2_score(y_test,yhat3))"
   ]
  },
  {
   "cell_type": "code",
   "execution_count": 215,
   "metadata": {},
   "outputs": [
    {
     "name": "stdout",
     "output_type": "stream",
     "text": [
      "[24.6930786  24.17685987 20.22565853 21.26496871 21.57729631 21.21828389\n",
      " 19.98271895 18.15686249 20.45846491 18.34023837 18.45553864 18.4661266\n",
      " 15.51314168  1.41562101 20.05600422 20.04236171 21.31916305 19.3404762\n",
      " 17.94618405 21.68866684 21.68866684 21.68866736 19.10146464 21.68866736\n",
      " 21.68866736 21.44735801 21.68866736 21.68866736 21.68867234 21.68867234\n",
      " 13.20695435 21.68867234 21.68867234 21.68867234 19.85747042 21.68867234\n",
      " 21.50005396 20.27441631 21.68867234 21.68867114 21.68867114 21.31296166\n",
      " 21.68867114 21.39848902 21.68867114 17.20306643 21.68867114 21.68867114\n",
      " 20.10106947 21.68867114 16.5387021  20.777652   19.65128134 16.73953282\n",
      " 15.40697531  5.07649173 -8.42155881 -5.94355621 -6.42159307  7.49034881\n",
      " -1.8794627  -6.53917909 -6.972925    1.10559257 -7.36390723 -4.9202616\n",
      " 15.72085099 15.81477836 13.64374002 -8.42766498 -8.34137914 -8.03361703\n",
      " -6.73774109 -7.18292523 -1.23342807 -3.9832855  -2.24755456 -2.40944564\n",
      " -1.14028067 -0.96920376 -0.93560373 -0.23152562 -6.52084131 -7.90837004\n",
      " -3.35480163 21.68867922 21.27249697 20.85326016 21.59627913 20.91206023\n",
      "  9.74692123 -5.33185825 15.66434562 21.04875128 21.68867458 14.61052169\n",
      " -8.59564814 18.51118033 20.78681909 20.08274562 -8.1099749  -4.73164408\n",
      " -7.81979278 -8.35281152 12.16688276 21.68867458 10.87022685 21.27096505\n",
      " 21.68867458 21.45347433 21.68866461 16.91593232 -6.9393291  16.67842895\n",
      " 19.53824945 21.68865171 21.68865171 21.56875242 21.41908779 19.99185578\n",
      " 18.30421248 14.49977212 21.63596659 18.06749012 20.37520163 20.65163829\n",
      " 21.68864346 21.39617042 21.56493424 21.38471587 19.69021376 21.05636065\n",
      " 21.36639734 21.02581517 20.99464611 17.09704201 15.14060359 20.6143548\n",
      " 21.13286443 25.11447607 25.11447607 24.83880305 25.11447607 25.11447607\n",
      " 25.11447607 25.02818507 25.11447607 26.16895812 26.54390397 26.54390397\n",
      " 26.28044915 26.54390397]\n",
      "-1.1273458311828901\n"
     ]
    }
   ],
   "source": [
    "clf4 = LinearRegression(X_train,y_train,grad_method = \"batch\", loss=\"ridge\")\n",
    "clf4.fit()\n",
    "yhat4 = clf4.predict(X_test)\n",
    "print(yhat4)\n",
    "print(r2_score(y_test,yhat4))"
   ]
  },
  {
   "cell_type": "code",
   "execution_count": 197,
   "metadata": {},
   "outputs": [
    {
     "name": "stdout",
     "output_type": "stream",
     "text": [
      "-2.3158374342893167\n",
      "219.99345400402268\n"
     ]
    }
   ],
   "source": [
    "print(clf1.r2_score(y_test, yhat1))\n",
    "print(clf1.mse(yhat1 ,y_test))"
   ]
  },
  {
   "cell_type": "code",
   "execution_count": 198,
   "metadata": {},
   "outputs": [
    {
     "name": "stdout",
     "output_type": "stream",
     "text": [
      "-2.3291337404864123\n",
      "220.8756143583107\n"
     ]
    }
   ],
   "source": [
    "print(clf2.r2_score(y_test, yhat2))\n",
    "print(clf2.mse(yhat2 ,y_test))"
   ]
  },
  {
   "cell_type": "code",
   "execution_count": 199,
   "metadata": {},
   "outputs": [
    {
     "name": "stdout",
     "output_type": "stream",
     "text": [
      "-1.1273458311828901\n",
      "141.1414662321313\n"
     ]
    }
   ],
   "source": [
    "print(clf3.r2_score(y_test, yhat3))\n",
    "print(clf3.mse(yhat3 ,y_test))"
   ]
  },
  {
   "cell_type": "code",
   "execution_count": 203,
   "metadata": {},
   "outputs": [],
   "source": [
    "from sklearn.model_selection import KFold\n",
    "kf = KFold(n_splits=10)\n",
    "\n",
    "def cross_validation_score(dataset, X, y,model):\n",
    "    for train_index, test_index in kf.split(dataset):\n",
    "        X_train = X[train_index]\n",
    "        X_test = X[test_index]\n",
    "        y_train = y[train_index]\n",
    "        y_test = y[test_index]\n",
    "        model.fit(X_train,y_train)\n",
    "        print(f\"Accuracy for the fold  on the test set: {r2_score(y_test, model.predict(X_test))}\")\n",
    "        "
   ]
  },
  {
   "cell_type": "code",
   "execution_count": 204,
   "metadata": {},
   "outputs": [
    {
     "name": "stdout",
     "output_type": "stream",
     "text": [
      "Accuracy for the fold  on the test set: -0.10258122703440664\n",
      "Accuracy for the fold  on the test set: -0.37038199088831325\n",
      "Accuracy for the fold  on the test set: -6.787980272686104\n",
      "Accuracy for the fold  on the test set: -0.6900410455876171\n",
      "Accuracy for the fold  on the test set: -0.41015740238520904\n",
      "Accuracy for the fold  on the test set: -1.3657053945210302\n",
      "Accuracy for the fold  on the test set: -0.3288050505494642\n",
      "Accuracy for the fold  on the test set: -1.5061589674554492\n",
      "Accuracy for the fold  on the test set: -6.874083906383235\n",
      "Accuracy for the fold  on the test set: -6.75868505642932\n"
     ]
    }
   ],
   "source": [
    "#Cross Validation for model 1\n",
    "cross_validation_score(data,X,y,clf1)"
   ]
  },
  {
   "cell_type": "code",
   "execution_count": 205,
   "metadata": {},
   "outputs": [
    {
     "name": "stdout",
     "output_type": "stream",
     "text": [
      "Accuracy for the fold  on the test set: -0.0999274283852678\n",
      "Accuracy for the fold  on the test set: -0.37222441981889465\n",
      "Accuracy for the fold  on the test set: -6.761005027017166\n",
      "Accuracy for the fold  on the test set: -0.6884359202768822\n",
      "Accuracy for the fold  on the test set: -0.40797071720862155\n",
      "Accuracy for the fold  on the test set: -1.3666766891183602\n",
      "Accuracy for the fold  on the test set: -0.3235576265275606\n",
      "Accuracy for the fold  on the test set: -1.5072102677464634\n",
      "Accuracy for the fold  on the test set: -6.837776788481002\n",
      "Accuracy for the fold  on the test set: -6.79084653373058\n"
     ]
    }
   ],
   "source": [
    "#Cross Validation for model 2\n",
    "cross_validation_score(data,X,y,clf2)"
   ]
  },
  {
   "cell_type": "code",
   "execution_count": 206,
   "metadata": {},
   "outputs": [
    {
     "name": "stdout",
     "output_type": "stream",
     "text": [
      "Accuracy for the fold  on the test set: -0.41116040541253085\n",
      "Accuracy for the fold  on the test set: -0.007518829267564087\n",
      "Accuracy for the fold  on the test set: -5.984630698010125\n",
      "Accuracy for the fold  on the test set: -0.4224398229952806\n",
      "Accuracy for the fold  on the test set: -0.09996881142286473\n",
      "Accuracy for the fold  on the test set: -0.3250557263990972\n",
      "Accuracy for the fold  on the test set: -0.8437438520314262\n",
      "Accuracy for the fold  on the test set: -0.20298378303984133\n",
      "Accuracy for the fold  on the test set: -9.374570015642927\n",
      "Accuracy for the fold  on the test set: -1.813346089449512\n"
     ]
    }
   ],
   "source": [
    "#Cross Validation for model 3\n",
    "cross_validation_score(data,X,y,clf3)"
   ]
  },
  {
   "cell_type": "code",
   "execution_count": 216,
   "metadata": {
    "scrolled": true
   },
   "outputs": [
    {
     "name": "stdout",
     "output_type": "stream",
     "text": [
      "Accuracy for the fold  on the test set: -0.41116040541253085\n",
      "Accuracy for the fold  on the test set: -0.007518829267564087\n",
      "Accuracy for the fold  on the test set: -5.984630698010125\n",
      "Accuracy for the fold  on the test set: -0.4224398229952806\n",
      "Accuracy for the fold  on the test set: -0.09996881142286473\n",
      "Accuracy for the fold  on the test set: -0.3250557263990972\n",
      "Accuracy for the fold  on the test set: -0.8437438520314262\n",
      "Accuracy for the fold  on the test set: -0.20298378303984133\n",
      "Accuracy for the fold  on the test set: -9.374570015642927\n",
      "Accuracy for the fold  on the test set: -1.813346089449512\n"
     ]
    }
   ],
   "source": [
    "#Cross Validation for model 4\n",
    "cross_validation_score(data,X,y,clf4)"
   ]
  },
  {
   "cell_type": "code",
   "execution_count": 222,
   "metadata": {},
   "outputs": [],
   "source": [
    "# best classifer and parameters due to Cross Validation\n",
    "best_clf = LinearRegression(X_train,y_train,grad_method = \"sto\", loss=\"ridge\")\n",
    "best_clf.fit(X_train,y_train)"
   ]
  },
  {
   "cell_type": "code",
   "execution_count": 226,
   "metadata": {},
   "outputs": [
    {
     "ename": "ValueError",
     "evalue": "Unknown label type: 'continuous'",
     "output_type": "error",
     "traceback": [
      "\u001b[1;31m---------------------------------------------------------------------------\u001b[0m",
      "\u001b[1;31mValueError\u001b[0m                                Traceback (most recent call last)",
      "\u001b[1;32m~\\AppData\\Local\\Temp/ipykernel_16504/761997814.py\u001b[0m in \u001b[0;36m<module>\u001b[1;34m\u001b[0m\n\u001b[0;32m      3\u001b[0m \u001b[1;31m# build default SVM model\u001b[0m\u001b[1;33m\u001b[0m\u001b[1;33m\u001b[0m\u001b[1;33m\u001b[0m\u001b[0m\n\u001b[0;32m      4\u001b[0m \u001b[0mclf1\u001b[0m \u001b[1;33m=\u001b[0m \u001b[0mSVC\u001b[0m\u001b[1;33m(\u001b[0m\u001b[0mrandom_state\u001b[0m\u001b[1;33m=\u001b[0m\u001b[1;36m42\u001b[0m\u001b[1;33m)\u001b[0m\u001b[1;33m\u001b[0m\u001b[1;33m\u001b[0m\u001b[0m\n\u001b[1;32m----> 5\u001b[1;33m \u001b[0mclf1\u001b[0m\u001b[1;33m.\u001b[0m\u001b[0mfit\u001b[0m\u001b[1;33m(\u001b[0m\u001b[0mX_train\u001b[0m\u001b[1;33m,\u001b[0m\u001b[0my_train\u001b[0m\u001b[1;33m)\u001b[0m \u001b[1;31m#Training the model\u001b[0m\u001b[1;33m\u001b[0m\u001b[1;33m\u001b[0m\u001b[0m\n\u001b[0m\u001b[0;32m      6\u001b[0m \u001b[1;31m# predict and evaluate performance\u001b[0m\u001b[1;33m\u001b[0m\u001b[1;33m\u001b[0m\u001b[1;33m\u001b[0m\u001b[0m\n\u001b[0;32m      7\u001b[0m \u001b[0mdef_y_pred\u001b[0m \u001b[1;33m=\u001b[0m \u001b[0mclf1\u001b[0m\u001b[1;33m.\u001b[0m\u001b[0mpredict\u001b[0m\u001b[1;33m(\u001b[0m\u001b[0mX_test\u001b[0m\u001b[1;33m)\u001b[0m\u001b[1;33m\u001b[0m\u001b[1;33m\u001b[0m\u001b[0m\n",
      "\u001b[1;32m~\\pythonDSAI\\lib\\site-packages\\sklearn\\svm\\_base.py\u001b[0m in \u001b[0;36mfit\u001b[1;34m(self, X, y, sample_weight)\u001b[0m\n\u001b[0;32m    171\u001b[0m                                        accept_large_sparse=False)\n\u001b[0;32m    172\u001b[0m \u001b[1;33m\u001b[0m\u001b[0m\n\u001b[1;32m--> 173\u001b[1;33m         \u001b[0my\u001b[0m \u001b[1;33m=\u001b[0m \u001b[0mself\u001b[0m\u001b[1;33m.\u001b[0m\u001b[0m_validate_targets\u001b[0m\u001b[1;33m(\u001b[0m\u001b[0my\u001b[0m\u001b[1;33m)\u001b[0m\u001b[1;33m\u001b[0m\u001b[1;33m\u001b[0m\u001b[0m\n\u001b[0m\u001b[0;32m    174\u001b[0m \u001b[1;33m\u001b[0m\u001b[0m\n\u001b[0;32m    175\u001b[0m         sample_weight = np.asarray([]\n",
      "\u001b[1;32m~\\pythonDSAI\\lib\\site-packages\\sklearn\\svm\\_base.py\u001b[0m in \u001b[0;36m_validate_targets\u001b[1;34m(self, y)\u001b[0m\n\u001b[0;32m    551\u001b[0m     \u001b[1;32mdef\u001b[0m \u001b[0m_validate_targets\u001b[0m\u001b[1;33m(\u001b[0m\u001b[0mself\u001b[0m\u001b[1;33m,\u001b[0m \u001b[0my\u001b[0m\u001b[1;33m)\u001b[0m\u001b[1;33m:\u001b[0m\u001b[1;33m\u001b[0m\u001b[1;33m\u001b[0m\u001b[0m\n\u001b[0;32m    552\u001b[0m         \u001b[0my_\u001b[0m \u001b[1;33m=\u001b[0m \u001b[0mcolumn_or_1d\u001b[0m\u001b[1;33m(\u001b[0m\u001b[0my\u001b[0m\u001b[1;33m,\u001b[0m \u001b[0mwarn\u001b[0m\u001b[1;33m=\u001b[0m\u001b[1;32mTrue\u001b[0m\u001b[1;33m)\u001b[0m\u001b[1;33m\u001b[0m\u001b[1;33m\u001b[0m\u001b[0m\n\u001b[1;32m--> 553\u001b[1;33m         \u001b[0mcheck_classification_targets\u001b[0m\u001b[1;33m(\u001b[0m\u001b[0my\u001b[0m\u001b[1;33m)\u001b[0m\u001b[1;33m\u001b[0m\u001b[1;33m\u001b[0m\u001b[0m\n\u001b[0m\u001b[0;32m    554\u001b[0m         \u001b[0mcls\u001b[0m\u001b[1;33m,\u001b[0m \u001b[0my\u001b[0m \u001b[1;33m=\u001b[0m \u001b[0mnp\u001b[0m\u001b[1;33m.\u001b[0m\u001b[0munique\u001b[0m\u001b[1;33m(\u001b[0m\u001b[0my_\u001b[0m\u001b[1;33m,\u001b[0m \u001b[0mreturn_inverse\u001b[0m\u001b[1;33m=\u001b[0m\u001b[1;32mTrue\u001b[0m\u001b[1;33m)\u001b[0m\u001b[1;33m\u001b[0m\u001b[1;33m\u001b[0m\u001b[0m\n\u001b[0;32m    555\u001b[0m         self.class_weight_ = compute_class_weight(self.class_weight,\n",
      "\u001b[1;32m~\\pythonDSAI\\lib\\site-packages\\sklearn\\utils\\multiclass.py\u001b[0m in \u001b[0;36mcheck_classification_targets\u001b[1;34m(y)\u001b[0m\n\u001b[0;32m    181\u001b[0m     if y_type not in ['binary', 'multiclass', 'multiclass-multioutput',\n\u001b[0;32m    182\u001b[0m                       'multilabel-indicator', 'multilabel-sequences']:\n\u001b[1;32m--> 183\u001b[1;33m         \u001b[1;32mraise\u001b[0m \u001b[0mValueError\u001b[0m\u001b[1;33m(\u001b[0m\u001b[1;34m\"Unknown label type: %r\"\u001b[0m \u001b[1;33m%\u001b[0m \u001b[0my_type\u001b[0m\u001b[1;33m)\u001b[0m\u001b[1;33m\u001b[0m\u001b[1;33m\u001b[0m\u001b[0m\n\u001b[0m\u001b[0;32m    184\u001b[0m \u001b[1;33m\u001b[0m\u001b[0m\n\u001b[0;32m    185\u001b[0m \u001b[1;33m\u001b[0m\u001b[0m\n",
      "\u001b[1;31mValueError\u001b[0m: Unknown label type: 'continuous'"
     ]
    }
   ],
   "source": [
    "# from sklearn.svm import SVC\n",
    "# # prepare datasets\n",
    "# # build default SVM model\n",
    "# clf1 = SVC(random_state=42)\n",
    "# clf1.fit(X_train,y_train) #Training the model\n",
    "# # predict and evaluate performance\n",
    "# def_y_pred = clf1.predict(X_test)\n",
    "# print('Default Model Stats:')\n",
    "# meu.display_model_performance_metrics(true_labels=y_test, predicted_labels=def_y_pred, classes=[0,1])"
   ]
  },
  {
   "cell_type": "code",
   "execution_count": 227,
   "metadata": {},
   "outputs": [
    {
     "name": "stdout",
     "output_type": "stream",
     "text": [
      "=========Average precision score=======\n"
     ]
    },
    {
     "ename": "ValueError",
     "evalue": "continuous format is not supported",
     "output_type": "error",
     "traceback": [
      "\u001b[1;31m---------------------------------------------------------------------------\u001b[0m",
      "\u001b[1;31mValueError\u001b[0m                                Traceback (most recent call last)",
      "\u001b[1;32m~\\AppData\\Local\\Temp/ipykernel_16504/4091044865.py\u001b[0m in \u001b[0;36m<module>\u001b[1;34m\u001b[0m\n\u001b[0;32m      2\u001b[0m \u001b[0myhat4\u001b[0m \u001b[1;33m=\u001b[0m \u001b[0mclf4\u001b[0m\u001b[1;33m.\u001b[0m\u001b[0mpredict\u001b[0m\u001b[1;33m(\u001b[0m\u001b[0mX_test\u001b[0m\u001b[1;33m)\u001b[0m\u001b[1;33m\u001b[0m\u001b[1;33m\u001b[0m\u001b[0m\n\u001b[0;32m      3\u001b[0m \u001b[0mprint\u001b[0m\u001b[1;33m(\u001b[0m\u001b[1;34m\"=========Average precision score=======\"\u001b[0m\u001b[1;33m)\u001b[0m\u001b[1;33m\u001b[0m\u001b[1;33m\u001b[0m\u001b[0m\n\u001b[1;32m----> 4\u001b[1;33m \u001b[0mprint\u001b[0m\u001b[1;33m(\u001b[0m\u001b[0maverage_precision_score\u001b[0m\u001b[1;33m(\u001b[0m\u001b[0my_test\u001b[0m\u001b[1;33m,\u001b[0m \u001b[0myhat4\u001b[0m\u001b[1;33m)\u001b[0m\u001b[1;33m)\u001b[0m\u001b[1;33m\u001b[0m\u001b[1;33m\u001b[0m\u001b[0m\n\u001b[0m\u001b[0;32m      5\u001b[0m \u001b[0mprint\u001b[0m\u001b[1;33m(\u001b[0m\u001b[1;34m\"=========Classification report=======\"\u001b[0m\u001b[1;33m)\u001b[0m\u001b[1;33m\u001b[0m\u001b[1;33m\u001b[0m\u001b[0m\n\u001b[0;32m      6\u001b[0m \u001b[0mprint\u001b[0m\u001b[1;33m(\u001b[0m\u001b[1;34m\"Report: \"\u001b[0m\u001b[1;33m,\u001b[0m \u001b[0mclassification_report\u001b[0m\u001b[1;33m(\u001b[0m\u001b[0my_test\u001b[0m\u001b[1;33m,\u001b[0m \u001b[0myhat4\u001b[0m\u001b[1;33m)\u001b[0m\u001b[1;33m)\u001b[0m\u001b[1;33m\u001b[0m\u001b[1;33m\u001b[0m\u001b[0m\n",
      "\u001b[1;32m~\\pythonDSAI\\lib\\site-packages\\sklearn\\utils\\validation.py\u001b[0m in \u001b[0;36minner_f\u001b[1;34m(*args, **kwargs)\u001b[0m\n\u001b[0;32m     61\u001b[0m             \u001b[0mextra_args\u001b[0m \u001b[1;33m=\u001b[0m \u001b[0mlen\u001b[0m\u001b[1;33m(\u001b[0m\u001b[0margs\u001b[0m\u001b[1;33m)\u001b[0m \u001b[1;33m-\u001b[0m \u001b[0mlen\u001b[0m\u001b[1;33m(\u001b[0m\u001b[0mall_args\u001b[0m\u001b[1;33m)\u001b[0m\u001b[1;33m\u001b[0m\u001b[1;33m\u001b[0m\u001b[0m\n\u001b[0;32m     62\u001b[0m             \u001b[1;32mif\u001b[0m \u001b[0mextra_args\u001b[0m \u001b[1;33m<=\u001b[0m \u001b[1;36m0\u001b[0m\u001b[1;33m:\u001b[0m\u001b[1;33m\u001b[0m\u001b[1;33m\u001b[0m\u001b[0m\n\u001b[1;32m---> 63\u001b[1;33m                 \u001b[1;32mreturn\u001b[0m \u001b[0mf\u001b[0m\u001b[1;33m(\u001b[0m\u001b[1;33m*\u001b[0m\u001b[0margs\u001b[0m\u001b[1;33m,\u001b[0m \u001b[1;33m**\u001b[0m\u001b[0mkwargs\u001b[0m\u001b[1;33m)\u001b[0m\u001b[1;33m\u001b[0m\u001b[1;33m\u001b[0m\u001b[0m\n\u001b[0m\u001b[0;32m     64\u001b[0m \u001b[1;33m\u001b[0m\u001b[0m\n\u001b[0;32m     65\u001b[0m             \u001b[1;31m# extra_args > 0\u001b[0m\u001b[1;33m\u001b[0m\u001b[1;33m\u001b[0m\u001b[1;33m\u001b[0m\u001b[0m\n",
      "\u001b[1;32m~\\pythonDSAI\\lib\\site-packages\\sklearn\\metrics\\_ranking.py\u001b[0m in \u001b[0;36maverage_precision_score\u001b[1;34m(y_true, y_score, average, pos_label, sample_weight)\u001b[0m\n\u001b[0;32m    222\u001b[0m     average_precision = partial(_binary_uninterpolated_average_precision,\n\u001b[0;32m    223\u001b[0m                                 pos_label=pos_label)\n\u001b[1;32m--> 224\u001b[1;33m     return _average_binary_score(average_precision, y_true, y_score,\n\u001b[0m\u001b[0;32m    225\u001b[0m                                  average, sample_weight=sample_weight)\n\u001b[0;32m    226\u001b[0m \u001b[1;33m\u001b[0m\u001b[0m\n",
      "\u001b[1;32m~\\pythonDSAI\\lib\\site-packages\\sklearn\\metrics\\_base.py\u001b[0m in \u001b[0;36m_average_binary_score\u001b[1;34m(binary_metric, y_true, y_score, average, sample_weight)\u001b[0m\n\u001b[0;32m     72\u001b[0m     \u001b[0my_type\u001b[0m \u001b[1;33m=\u001b[0m \u001b[0mtype_of_target\u001b[0m\u001b[1;33m(\u001b[0m\u001b[0my_true\u001b[0m\u001b[1;33m)\u001b[0m\u001b[1;33m\u001b[0m\u001b[1;33m\u001b[0m\u001b[0m\n\u001b[0;32m     73\u001b[0m     \u001b[1;32mif\u001b[0m \u001b[0my_type\u001b[0m \u001b[1;32mnot\u001b[0m \u001b[1;32min\u001b[0m \u001b[1;33m(\u001b[0m\u001b[1;34m\"binary\"\u001b[0m\u001b[1;33m,\u001b[0m \u001b[1;34m\"multilabel-indicator\"\u001b[0m\u001b[1;33m)\u001b[0m\u001b[1;33m:\u001b[0m\u001b[1;33m\u001b[0m\u001b[1;33m\u001b[0m\u001b[0m\n\u001b[1;32m---> 74\u001b[1;33m         \u001b[1;32mraise\u001b[0m \u001b[0mValueError\u001b[0m\u001b[1;33m(\u001b[0m\u001b[1;34m\"{0} format is not supported\"\u001b[0m\u001b[1;33m.\u001b[0m\u001b[0mformat\u001b[0m\u001b[1;33m(\u001b[0m\u001b[0my_type\u001b[0m\u001b[1;33m)\u001b[0m\u001b[1;33m)\u001b[0m\u001b[1;33m\u001b[0m\u001b[1;33m\u001b[0m\u001b[0m\n\u001b[0m\u001b[0;32m     75\u001b[0m \u001b[1;33m\u001b[0m\u001b[0m\n\u001b[0;32m     76\u001b[0m     \u001b[1;32mif\u001b[0m \u001b[0my_type\u001b[0m \u001b[1;33m==\u001b[0m \u001b[1;34m\"binary\"\u001b[0m\u001b[1;33m:\u001b[0m\u001b[1;33m\u001b[0m\u001b[1;33m\u001b[0m\u001b[0m\n",
      "\u001b[1;31mValueError\u001b[0m: continuous format is not supported"
     ]
    }
   ],
   "source": [
    "clf4.fit()\n",
    "yhat4 = clf4.predict(X_test)\n",
    "print(\"=========Average precision score=======\")\n",
    "print(average_precision_score(y_test, yhat4))\n",
    "print(\"=========Classification report=======\")\n",
    "print(\"Report: \", classification_report(y_test, yhat4))"
   ]
  },
  {
   "cell_type": "code",
   "execution_count": null,
   "metadata": {},
   "outputs": [],
   "source": []
  }
 ],
 "metadata": {
  "kernelspec": {
   "display_name": "pythonDSAI",
   "language": "python",
   "name": "pythondsai"
  },
  "language_info": {
   "codemirror_mode": {
    "name": "ipython",
    "version": 3
   },
   "file_extension": ".py",
   "mimetype": "text/x-python",
   "name": "python",
   "nbconvert_exporter": "python",
   "pygments_lexer": "ipython3",
   "version": "3.8.3"
  }
 },
 "nbformat": 4,
 "nbformat_minor": 4
}
