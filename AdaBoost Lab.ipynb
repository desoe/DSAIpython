{
 "cells": [
  {
   "cell_type": "markdown",
   "metadata": {},
   "source": [
    "## Supervised Learning - Classification - AdaBoost\n"
   ]
  },
  {
   "cell_type": "markdown",
   "metadata": {},
   "source": [
    "Modify the AdaBoost scratch code in our lecture such that:\n",
    "- Notice that if <code>err</code> = 0, then $\\alpha$ will be undefined, thus attempt to fix this by adding some very small value to the lower term\n",
    "- Notice that sklearn version of AdaBoost has a parameter <code>learning_rate</code>.  This is in fact the $\\frac{1}{2}$ in front of the $\\alpha$ calculation.  Attempt to change this $\\frac{1}{2}$ into a parameter called <code>eta</code>, and try different values of it and see whether accuracy is improved.  Note that sklearn default this value to 1.\n",
    "- Observe that we are actually using sklearn DecisionTreeClassifier.  If we take a look at it closely, it is actually using weighted gini index, instead of weighted errors that we learn above.  Attempt to write your own class of <code>class Stump</code> that actually uses weighted errors, instead of weighted gini index.   To check whether your stump really works, it should give you still relatively the same accuracy.  In addition, if you do not change y to -1, it will result in very bad accuracy.  Unlike sklearn version of DecisionTree, it will STILL work even y is not change to -1 since it uses gini index\n",
    "- Put everything into a class"
   ]
  },
  {
   "cell_type": "markdown",
   "metadata": {},
   "source": [
    "#### st122645"
   ]
  },
  {
   "cell_type": "code",
   "execution_count": 1,
   "metadata": {},
   "outputs": [],
   "source": [
    "import numpy as np\n",
    "import matplotlib.pyplot as plt\n",
    "from sklearn.metrics import accuracy_score\n",
    "from sklearn.tree import DecisionTreeClassifier\n",
    "from sklearn.metrics import classification_report\n",
    "from sklearn.model_selection import train_test_split\n",
    "from sklearn.datasets import make_moons\n",
    "from sklearn.datasets import make_classification\n"
   ]
  },
  {
   "cell_type": "code",
   "execution_count": 2,
   "metadata": {},
   "outputs": [],
   "source": [
    "X, y = make_classification(n_samples=500, random_state=1)\n",
    "y = np.where(y==0,-1,1)  #change our y to be -1 if it is 0, otherwise 1\n",
    "\n",
    "X_train, X_test, y_train, y_test = train_test_split(X, y, test_size=0.3, random_state=42)"
   ]
  },
  {
   "cell_type": "code",
   "execution_count": 3,
   "metadata": {},
   "outputs": [],
   "source": [
    "# X, y = make_classification(n_samples=500, random_state=1)\n",
    "# y = np.where(y==0,-1,1)  \n",
    "\n",
    "# X_train, X_test, y_train, y_test = train_test_split(X, y, test_size=0.3, random_state=42)\n",
    "\n",
    "# class AdaBoost:\n",
    "#     def __init__(self, stump_params, S = 20, W = 0, eta = 0.5):\n",
    "#         self.eta = eta\n",
    "#         self.W = W\n",
    "#         self.stump_params = stump_params\n",
    "#         self.S = S\n",
    "#         self.models = [DecisionTreeClassifier(**stump_params) for _ in range(S)]\n",
    "#         self.a_js = np.zeros(S)\n",
    "        \n",
    "    \n",
    "#     def fit(self,X_train,y_train,X_test,y_test):\n",
    "#         m = X_train.shape[0]\n",
    "#         self.W = np.full(m, 1/m)    \n",
    "#         for j, model in enumerate(self.models):\n",
    "#             model.fit(X_train, y_train, sample_weight = self.W)\n",
    "#             yhat = model.predict(X_train) \n",
    "#             err = self.W[(yhat != y_train)].sum()\n",
    "#             a_j = np.log ((1 - err) / err) * self.eta\n",
    "#             self.a_js[j] = a_j\n",
    "#             self.W = (self.W * np.exp(-a_j * y_train * yhat)) \n",
    "#             self.W = self.W / sum (self.W)\n",
    "    \n",
    "#     def predict(self,y_test):\n",
    "#         Hx = 0\n",
    "#         for i, model in enumerate(self.models):\n",
    "#             yhat = model.predict(X_test)\n",
    "#             Hx += self.a_js[i] * yhat\n",
    "    \n",
    "#         yhat = np.sign(Hx)\n",
    "#         print(classification_report(y_test, yhat))\n",
    "\n",
    "#         clf = AdaBoost({'max_depth':1,'max_leaf_nodes':2})\n",
    "# clf.fit(X_train,y_train,X_test,y_test)\n",
    "# clf.predict(y_test)"
   ]
  },
  {
   "cell_type": "code",
   "execution_count": 4,
   "metadata": {},
   "outputs": [],
   "source": [
    "class Stump:\n",
    "    def __init__(self):\n",
    "        self.polarity = 1\n",
    "        self.feature_index = None\n",
    "        self.threshold = None\n",
    "        self.alpha = None"
   ]
  },
  {
   "cell_type": "code",
   "execution_count": 82,
   "metadata": {},
   "outputs": [],
   "source": [
    "class AdaBoost:\n",
    "    def __init__(self, S = 20, W = 0, eta = 0.5):\n",
    "        self.eta = eta\n",
    "        self.W = W\n",
    "        self.S = S\n",
    "        self.models = []\n",
    "        self.a_js = np.zeros(S)\n",
    "        \n",
    "    \n",
    "    def fit(self, X, y):\n",
    "        m,n = X.shape #[0]\n",
    "        self.W = np.full(m, 1/m)    \n",
    "        \n",
    "        for i in range(self.S):\n",
    "            clf = Stump()\n",
    "            min_error = np.inf\n",
    "            \n",
    "            for feature in range(n):\n",
    "                feature_values = np.expand_dims(X[:,feature], axis =1)\n",
    "                thresholds = np.unique(feature_values)\n",
    "                \n",
    "                for threshold in thresholds:\n",
    "                    p = 1\n",
    "                    prediction = np.ones(np.shape(y))\n",
    "                    prediction[X[:, feature] < threshold] = -1\n",
    "                    error = sum(self.W[y != prediction])\n",
    "                    \n",
    "                    if error > 0.5:\n",
    "                        error = 1 - error \n",
    "                        p = -1\n",
    "                    if error < min_error:\n",
    "                        clf.polarity = p\n",
    "                        clf.threshold = threshold\n",
    "                        clf.feature_index = feature\n",
    "                        min_error = error\n",
    "                \n",
    "            clf.alpha = self.eta * np.log((1.0 - min_error)/(min_error + 1e-10))\n",
    "            predictions = np.ones(np.shape(y))\n",
    "            negative_idx = (clf.polarity * X[:, clf.feature_index] < clf.polarity * clf.threshold)\n",
    "                \n",
    "            predictions[negative_idx] = -1\n",
    "            self.W *= np.exp(-clf.alpha * y * predictions)\n",
    "            self.W /= np.sum(self.W)\n",
    "            self.models.append(clf)\n",
    "            \n",
    "    def predict(self,X): \n",
    "        m, n = X.shape\n",
    "        yhat = np.zeros(m)\n",
    "        for clf in self.models:\n",
    "            pred = np.ones(m)\n",
    "            pred[clf.polarity * X[:, clf.feature_index] < clf.polarity * clf.threshold] = -1\n",
    "            yhat += clf.alpha * pred\n",
    "            \n",
    "        return np.sign(yhat)"
   ]
  },
  {
   "cell_type": "code",
   "execution_count": 83,
   "metadata": {},
   "outputs": [
    {
     "name": "stdout",
     "output_type": "stream",
     "text": [
      "              precision    recall  f1-score   support\n",
      "\n",
      "          -1       0.93      0.96      0.94        79\n",
      "           1       0.96      0.92      0.94        71\n",
      "\n",
      "    accuracy                           0.94       150\n",
      "   macro avg       0.94      0.94      0.94       150\n",
      "weighted avg       0.94      0.94      0.94       150\n",
      "\n"
     ]
    }
   ],
   "source": [
    "model = AdaBoost(S=20) #({'max_depth':1,'max_leaf_nodes':2})\n",
    "model.fit(X_train,y_train)\n",
    "yhat = model.predict(X_test)\n",
    "print(classification_report(y_test, yhat))"
   ]
  },
  {
   "cell_type": "code",
   "execution_count": null,
   "metadata": {},
   "outputs": [],
   "source": []
  }
 ],
 "metadata": {
  "kernelspec": {
   "display_name": "pythonDSAI",
   "language": "python",
   "name": "pythondsai"
  },
  "language_info": {
   "codemirror_mode": {
    "name": "ipython",
    "version": 3
   },
   "file_extension": ".py",
   "mimetype": "text/x-python",
   "name": "python",
   "nbconvert_exporter": "python",
   "pygments_lexer": "ipython3",
   "version": "3.8.3"
  }
 },
 "nbformat": 4,
 "nbformat_minor": 4
}
