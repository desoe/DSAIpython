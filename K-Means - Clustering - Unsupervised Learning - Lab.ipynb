{
 "cells": [
  {
   "cell_type": "markdown",
   "metadata": {},
   "source": [
    "## Unsupervised Learning - Clustering - K-Means\n"
   ]
  },
  {
   "cell_type": "markdown",
   "metadata": {},
   "source": [
    "Modify the scratch code of K-means clustering in our lecture:\n",
    "- Modify so it print out the total within-cluster variation.  Then try to run several k and identify which k is best.\n",
    "- Since k-means can be slow due to its pairwise computations, let's implement a mini-batch k-means in which the cluster is create using only partial subset of samples.\n",
    "- Put everything into a class\n",
    "\n",
    "Mini-Batch will rarely converge, thus it is important to add a max_iteration or some tolerance.  Last, theoretically speaking, Mini-Batch will never perform better in terms of accuracy when compare to K-means, but it is very close to optimal but will almost always beat K-means in terms of time given large dataset and a modest tolerance parameter."
   ]
  },
  {
   "cell_type": "markdown",
   "metadata": {},
   "source": [
    "#### st122645"
   ]
  },
  {
   "cell_type": "code",
   "execution_count": 109,
   "metadata": {},
   "outputs": [],
   "source": [
    "import numpy as np\n",
    "import matplotlib.pyplot as plt\n",
    "from sklearn.datasets import make_blobs\n",
    "from sklearn.metrics import pairwise_distances_argmin\n",
    "from time import time\n"
   ]
  },
  {
   "cell_type": "code",
   "execution_count": 110,
   "metadata": {},
   "outputs": [],
   "source": [
    "X, y_true = make_blobs(n_samples=1500, centers=4, cluster_std=0.60, random_state=0)"
   ]
  },
  {
   "cell_type": "code",
   "execution_count": 113,
   "metadata": {},
   "outputs": [],
   "source": [
    "class KM:\n",
    "    def __init__(self,n_clusters, replacement = True, batch_size = 100, max_iter = 100):\n",
    "        self.n_clusters = n_clusters\n",
    "        self.replacement=replacement\n",
    "        self.batch_size = batch_size\n",
    "        self.max_iter = max_iter\n",
    "        \n",
    "    def fit(self, X):\n",
    "        m, n = X.shape\n",
    "\n",
    "        # 1. randomly choose n clusters from X; you can also randomly generate any two points\n",
    "        rng = np.random.RandomState(94)\n",
    "        i = rng.permutation(m)[:self.n_clusters]\n",
    "        self.centers = X[i]\n",
    "\n",
    "        iteration = 0\n",
    "\n",
    "        while True:\n",
    "            # 2. assign lables based on closest center\n",
    "            # return the index of centers having smallest distance with X\n",
    "            labels = pairwise_distances_argmin(X, self.centers)\n",
    "\n",
    "            # 3. find new centers\n",
    "            new_centers = []\n",
    "            for i in range(self.n_clusters):\n",
    "                new_centers.append(X[labels == i].mean(axis=0))\n",
    "\n",
    "            # convert list to np.array; you can actually combine 3 with np.array in one sentence \n",
    "            new_centers = np.array(new_centers)\n",
    "\n",
    "            # plotting purpose\n",
    "            # plot every 5th iteration to save space; remove this if, if you want to see each snapshot\n",
    "            if (iteration % 5 == 0):\n",
    "                pred = pairwise_distances_argmin(X, new_centers)\n",
    "#                 plt.figure(figsize=(5, 2))\n",
    "#                 plt.title(f\"Iteration: {iteration}\")\n",
    "#                 plt.scatter(X[:, 0], X[:, 1], c=pred)\n",
    "#                 plt.scatter(new_centers[:, 0], new_centers[:, 1], s=100, c=\"black\", alpha=0.6)\n",
    "\n",
    "            # 4 stopping criteria - if centers do not change anymore, we stop!\n",
    "            if(np.allclose(self.centers, new_centers)):\n",
    "                break\n",
    "            else:\n",
    "                self.centers = new_centers\n",
    "                iteration+=1\n",
    "\n",
    "        print(f\"Done in {iteration} iterations\")\n",
    "#         return centers\n",
    "\n",
    "        total_with_variation_score = 0\n",
    "        labels = pairwise_distances_argmin(X, self.centers) #<---Note I use X here.  Why?\n",
    "        for i in range(self.n_clusters):\n",
    "            cluster_mean = X[labels==i].mean(axis=0)\n",
    "            total_with_variation_score += ((X[labels==i] - cluster_mean)** 2).sum()\n",
    "            \n",
    "        print(\"Total with variation score: \", total_with_variation_score)\n",
    "        \n",
    "    def predict(self, X):\n",
    "        return pairwise_distances_argmin(X, self.centers)\n"
   ]
  },
  {
   "cell_type": "code",
   "execution_count": 117,
   "metadata": {},
   "outputs": [
    {
     "name": "stdout",
     "output_type": "stream",
     "text": [
      "=====k = 1\n",
      "Done in 1 iterations\n",
      "Total with variation score:  14005.126690305286\n",
      "Fit and predict time 0.003000497817993164\n",
      "=====k = 2\n",
      "Done in 10 iterations\n",
      "Total with variation score:  5805.884294336651\n",
      "Fit and predict time 0.008002281188964844\n",
      "=====k = 3\n",
      "Done in 8 iterations\n",
      "Total with variation score:  2493.8460360964195\n",
      "Fit and predict time 0.00599980354309082\n",
      "=====k = 4\n",
      "Done in 3 iterations\n",
      "Total with variation score:  1006.3420400278767\n",
      "Fit and predict time 0.0030014514923095703\n",
      "=====k = 5\n",
      "Done in 12 iterations\n",
      "Total with variation score:  921.7604906042242\n",
      "Fit and predict time 0.008001327514648438\n",
      "=====k = 6\n",
      "Done in 12 iterations\n",
      "Total with variation score:  844.5064140178886\n",
      "Fit and predict time 0.00800180435180664\n",
      "=====k = 7\n",
      "Done in 12 iterations\n",
      "Total with variation score:  764.1291155529301\n",
      "Fit and predict time 0.009001970291137695\n",
      "=====k = 8\n",
      "Done in 13 iterations\n",
      "Total with variation score:  663.9292594307542\n",
      "Fit and predict time 0.010002613067626953\n"
     ]
    }
   ],
   "source": [
    "for n_clusters in range(1,9):\n",
    "    print(f\"=====k = {n_clusters}\")\n",
    "    start = time()\n",
    "    model = KM(n_clusters)\n",
    "    model.fit(X)\n",
    "    preds = model.predict(X)\n",
    "    print(f\"Fit and predict time {time() - start}\")\n",
    "   "
   ]
  },
  {
   "cell_type": "code",
   "execution_count": 125,
   "metadata": {},
   "outputs": [],
   "source": [
    "# for n_clusters in range(1,9):\n",
    "#     plt.figure()\n",
    "#     plt.scatter(X[:, 0], X[:, 1], c=preds, s=50)\n",
    "#     plt.title(\"Result\")\n"
   ]
  },
  {
   "cell_type": "code",
   "execution_count": null,
   "metadata": {},
   "outputs": [],
   "source": []
  }
 ],
 "metadata": {
  "kernelspec": {
   "display_name": "pythonDSAI",
   "language": "python",
   "name": "pythondsai"
  },
  "language_info": {
   "codemirror_mode": {
    "name": "ipython",
    "version": 3
   },
   "file_extension": ".py",
   "mimetype": "text/x-python",
   "name": "python",
   "nbconvert_exporter": "python",
   "pygments_lexer": "ipython3",
   "version": "3.8.3"
  }
 },
 "nbformat": 4,
 "nbformat_minor": 4
}
